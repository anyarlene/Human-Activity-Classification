{
  "nbformat": 4,
  "nbformat_minor": 0,
  "metadata": {
    "colab": {
      "name": "BBDC.ipynb",
      "provenance": [],
      "collapsed_sections": []
    },
    "kernelspec": {
      "display_name": "Python 3",
      "language": "python",
      "name": "python3"
    },
    "language_info": {
      "codemirror_mode": {
        "name": "ipython",
        "version": 3
      },
      "file_extension": ".py",
      "mimetype": "text/x-python",
      "name": "python",
      "nbconvert_exporter": "python",
      "pygments_lexer": "ipython3",
      "version": "3.7.7"
    }
  },
  "cells": [
    {
      "cell_type": "code",
      "metadata": {
        "colab_type": "code",
        "id": "upW4UrEIOiQF",
        "colab": {}
      },
      "source": [
        "#import tensorflow as tf"
      ],
      "execution_count": 0,
      "outputs": []
    },
    {
      "cell_type": "code",
      "metadata": {
        "colab_type": "code",
        "id": "IM-qkHWGKmLH",
        "colab": {}
      },
      "source": [
        "from numba.typed import List\n",
        "from numba import jit, njit, vectorize\n",
        "from concurrent.futures import ThreadPoolExecutor"
      ],
      "execution_count": 0,
      "outputs": []
    },
    {
      "cell_type": "code",
      "metadata": {
        "colab_type": "code",
        "id": "s6O7z1GQOiQQ",
        "colab": {}
      },
      "source": [
        "#from tensorflow.keras import Sequential\n",
        "#from tensorflow.keras.layers import Flatten, Dense, Dropout, BatchNormalization\n",
        "#from tensorflow.keras.layers import Conv2D, MaxPool2D\n",
        "#from tensorflow.keras.optimizers import Adam"
      ],
      "execution_count": 0,
      "outputs": []
    },
    {
      "cell_type": "code",
      "metadata": {
        "colab_type": "code",
        "id": "ZTVXOjqTOiQd",
        "colab": {}
      },
      "source": [
        "#print(tf.__version__)"
      ],
      "execution_count": 0,
      "outputs": []
    },
    {
      "cell_type": "code",
      "metadata": {
        "colab_type": "code",
        "id": "GUwfNgieOiQr",
        "outputId": "eda3e564-69df-45f0-a855-dcfee0dc4cd2",
        "colab": {
          "base_uri": "https://localhost:8080/",
          "height": 72
        }
      },
      "source": [
        "import os\n",
        "import glob\n",
        "import pandas as pd\n",
        "import numpy as np\n",
        "import seaborn as sns\n",
        "import matplotlib.pyplot as plt\n",
        "from sklearn.model_selection import train_test_split\n",
        "from sklearn.preprocessing import StandardScaler, LabelEncoder"
      ],
      "execution_count": 5,
      "outputs": [
        {
          "output_type": "stream",
          "text": [
            "/usr/local/lib/python3.6/dist-packages/statsmodels/tools/_testing.py:19: FutureWarning: pandas.util.testing is deprecated. Use the functions in the public API at pandas.testing instead.\n",
            "  import pandas.util.testing as tm\n"
          ],
          "name": "stderr"
        }
      ]
    },
    {
      "cell_type": "code",
      "metadata": {
        "id": "CXr8x0OwkBST",
        "colab_type": "code",
        "outputId": "52d518dd-303c-43e8-89ac-8e5386a696eb",
        "colab": {
          "base_uri": "https://localhost:8080/",
          "height": 262
        }
      },
      "source": [
        "from dask.distributed import Client, LocalCluster\n",
        "\n",
        "cluster = LocalCluster(processes=False)\n",
        "client = Client(cluster)\n",
        "client"
      ],
      "execution_count": 6,
      "outputs": [
        {
          "output_type": "stream",
          "text": [
            "/usr/local/lib/python3.6/dist-packages/distributed/bokeh/core.py:57: UserWarning: \n",
            "Failed to start diagnostics server on port 8787. [Errno 99] Cannot assign requested address\n",
            "  warnings.warn('\\n' + msg)\n",
            "/usr/local/lib/python3.6/dist-packages/distributed/deploy/local.py:197: UserWarning: \n",
            "Could not launch service 'bokeh' on port 8787. Got the following message:\n",
            "\n",
            "[Errno 99] Cannot assign requested address\n",
            "  self.scheduler.start(scheduler_address)\n"
          ],
          "name": "stderr"
        },
        {
          "output_type": "execute_result",
          "data": {
            "text/html": [
              "<table style=\"border: 2px solid white;\">\n",
              "<tr>\n",
              "<td style=\"vertical-align: top; border: 0px solid white\">\n",
              "<h3>Client</h3>\n",
              "<ul>\n",
              "  <li><b>Scheduler: </b>inproc://172.28.0.2/939/1\n",
              "</ul>\n",
              "</td>\n",
              "<td style=\"vertical-align: top; border: 0px solid white\">\n",
              "<h3>Cluster</h3>\n",
              "<ul>\n",
              "  <li><b>Workers: </b>1</li>\n",
              "  <li><b>Cores: </b>2</li>\n",
              "  <li><b>Memory: </b>13.65 GB</li>\n",
              "</ul>\n",
              "</td>\n",
              "</tr>\n",
              "</table>"
            ],
            "text/plain": [
              "<Client: scheduler='inproc://172.28.0.2/939/1' processes=1 cores=2>"
            ]
          },
          "metadata": {
            "tags": []
          },
          "execution_count": 6
        }
      ]
    },
    {
      "cell_type": "code",
      "metadata": {
        "colab_type": "code",
        "id": "9UjXHLXL3PMt",
        "colab": {}
      },
      "source": [
        "import dask\n",
        "import dask.dataframe as dd"
      ],
      "execution_count": 0,
      "outputs": []
    },
    {
      "cell_type": "code",
      "metadata": {
        "colab_type": "code",
        "id": "EF64P312O_HS",
        "outputId": "a02dadff-9fde-4793-a4a3-d43532950a16",
        "colab": {
          "base_uri": "https://localhost:8080/",
          "height": 34
        }
      },
      "source": [
        "#Loading the Drive helper and mount\n",
        "from google.colab import drive\n",
        "#HERE Will prompt for authorisation\n",
        "drive.mount('/content/drive')"
      ],
      "execution_count": 8,
      "outputs": [
        {
          "output_type": "stream",
          "text": [
            "Drive already mounted at /content/drive; to attempt to forcibly remount, call drive.mount(\"/content/drive\", force_remount=True).\n"
          ],
          "name": "stdout"
        }
      ]
    },
    {
      "cell_type": "code",
      "metadata": {
        "colab_type": "code",
        "id": "BK5dUSXTOiQ1",
        "outputId": "ccf4e0be-9a51-4498-e247-4fcb4185e14b",
        "colab": {
          "base_uri": "https://localhost:8080/",
          "height": 54
        }
      },
      "source": [
        "source = r\"/content/drive/My Drive/bbdc2019/Subjects\"\n",
        "subfolders = os.listdir(source)\n",
        "print(subfolders)"
      ],
      "execution_count": 9,
      "outputs": [
        {
          "output_type": "stream",
          "text": [
            "['Subject01', 'Subject02', 'Subject03', 'Subject04', 'Subject05', 'Subject06', 'Subject07', 'Subject08', 'Subject09', 'Subject10', 'Subject11', 'Subject12', 'Subject13', 'Subject14', 'Subject15', 'Subject16', 'Subject17', 'Subject18', 'Subject19']\n"
          ],
          "name": "stdout"
        }
      ]
    },
    {
      "cell_type": "code",
      "metadata": {
        "colab_type": "code",
        "id": "ZOepk04D_eUm",
        "outputId": "201cf90b-c9a6-4b15-bc68-6d61e3a3c216",
        "colab": {
          "base_uri": "https://localhost:8080/",
          "height": 34
        }
      },
      "source": [
        "source"
      ],
      "execution_count": 10,
      "outputs": [
        {
          "output_type": "execute_result",
          "data": {
            "text/plain": [
              "'/content/drive/My Drive/bbdc2019/Subjects'"
            ]
          },
          "metadata": {
            "tags": []
          },
          "execution_count": 10
        }
      ]
    },
    {
      "cell_type": "code",
      "metadata": {
        "colab_type": "code",
        "id": "VRvtqme8OiQ8",
        "colab": {}
      },
      "source": [
        "nofolders = len(subfolders)  "
      ],
      "execution_count": 0,
      "outputs": []
    },
    {
      "cell_type": "code",
      "metadata": {
        "colab_type": "code",
        "id": "OD9dQ9XVOiRC",
        "outputId": "dba80086-729d-40ed-a041-fc88facfe66b",
        "colab": {
          "base_uri": "https://localhost:8080/",
          "height": 34
        }
      },
      "source": [
        "print(nofolders)"
      ],
      "execution_count": 12,
      "outputs": [
        {
          "output_type": "stream",
          "text": [
            "19\n"
          ],
          "name": "stdout"
        }
      ]
    },
    {
      "cell_type": "code",
      "metadata": {
        "colab_type": "code",
        "id": "Pcomy64eaV1x",
        "colab": {}
      },
      "source": [
        "def list_files(dir):\n",
        "    r = []\n",
        "    for root, dirs, files in os.walk(dir):\n",
        "        for name in files:\n",
        "            r.append(os.path.join(root, name))\n",
        "    return r"
      ],
      "execution_count": 0,
      "outputs": []
    },
    {
      "cell_type": "code",
      "metadata": {
        "colab_type": "code",
        "id": "2NPabtqdaV12",
        "colab": {}
      },
      "source": [
        "all_csv = list_files(source)"
      ],
      "execution_count": 0,
      "outputs": []
    },
    {
      "cell_type": "code",
      "metadata": {
        "colab_type": "code",
        "id": "NtDzcGM0aV19",
        "colab": {}
      },
      "source": [
        "#all_csv = np.array(all_csv)"
      ],
      "execution_count": 0,
      "outputs": []
    },
    {
      "cell_type": "code",
      "metadata": {
        "colab_type": "code",
        "id": "qu0LRJEIaV2H",
        "colab": {}
      },
      "source": [
        "#all_csv"
      ],
      "execution_count": 0,
      "outputs": []
    },
    {
      "cell_type": "code",
      "metadata": {
        "colab_type": "code",
        "id": "M0bzz8RliaH2",
        "outputId": "17944712-7264-4bff-d738-01594ceacab3",
        "colab": {
          "base_uri": "https://localhost:8080/",
          "height": 34
        }
      },
      "source": [
        "len(all_csv)"
      ],
      "execution_count": 17,
      "outputs": [
        {
          "output_type": "execute_result",
          "data": {
            "text/plain": [
              "8139"
            ]
          },
          "metadata": {
            "tags": []
          },
          "execution_count": 17
        }
      ]
    },
    {
      "cell_type": "code",
      "metadata": {
        "colab_type": "code",
        "id": "yUJ1mEYFaV3J",
        "colab": {}
      },
      "source": [
        "col_sub='EMG1,EMG2,EMG3,EMG4,Airborne,ACC_upper_X,ACC_upper_Y,ACC_upper_Z,Goniometer_X,ACC_lower_X,ACC_lower_Y,ACC_loewr_Z,Goniometer_Y,Gyro_upper_X,Gyro_upper_Y,Gyro_upper_Z,Gyro_lower_X,Gyro_lower_Y,Gyro_lower_Z'"
      ],
      "execution_count": 0,
      "outputs": []
    },
    {
      "cell_type": "code",
      "metadata": {
        "colab_type": "code",
        "id": "P66hMd8FaV3O",
        "colab": {}
      },
      "source": [
        "targets=['run','walk', 'stand','sit','sit-to-stand','stand-to-sit','stair-up',\n",
        " 'stair-down','jump-one-leg','jump-two-leg','curve-left-step',\n",
        " 'curve-right-step','curve-left-spin-Lfirst','curve-left-spin-Rfirst',\n",
        " 'curve-right-spin-Lfirst', 'curve-right-spin-Rfirst',\n",
        " 'lateral-shuffle-right','lateral-shuffle-left','v-cut-left-Lfirst',\n",
        " 'v-cut-left-Rfirst','v-cut-right-Lfirst','v-cut-right-Rfirst']"
      ],
      "execution_count": 0,
      "outputs": []
    },
    {
      "cell_type": "code",
      "metadata": {
        "colab_type": "code",
        "id": "nOqiDRMTwPpD",
        "colab": {}
      },
      "source": [
        "targets = np.array(targets)"
      ],
      "execution_count": 0,
      "outputs": []
    },
    {
      "cell_type": "code",
      "metadata": {
        "colab_type": "code",
        "id": "UhvyXYAAOiR7",
        "colab": {}
      },
      "source": [
        "trainData=r\"/content/drive/My Drive/bbdc2019/train.csv\"\n",
        "testData=r\"/content/drive/My Drive/bbdc2019/challenge.csv\""
      ],
      "execution_count": 0,
      "outputs": []
    },
    {
      "cell_type": "code",
      "metadata": {
        "id": "R-5mW8q3kBU4",
        "colab_type": "code",
        "colab": {}
      },
      "source": [
        "train = pd.read_csv(trainData, nrows=50)\n",
        "test = pd.read_csv(testData, nrows = 50)"
      ],
      "execution_count": 0,
      "outputs": []
    },
    {
      "cell_type": "code",
      "metadata": {
        "id": "uRKZ9QfkkBU9",
        "colab_type": "code",
        "outputId": "941836d6-aecd-4f8d-a6c7-afd5a653967f",
        "colab": {
          "base_uri": "https://localhost:8080/",
          "height": 197
        }
      },
      "source": [
        "train.head()"
      ],
      "execution_count": 23,
      "outputs": [
        {
          "output_type": "execute_result",
          "data": {
            "text/html": [
              "<div>\n",
              "<style scoped>\n",
              "    .dataframe tbody tr th:only-of-type {\n",
              "        vertical-align: middle;\n",
              "    }\n",
              "\n",
              "    .dataframe tbody tr th {\n",
              "        vertical-align: top;\n",
              "    }\n",
              "\n",
              "    .dataframe thead th {\n",
              "        text-align: right;\n",
              "    }\n",
              "</style>\n",
              "<table border=\"1\" class=\"dataframe\">\n",
              "  <thead>\n",
              "    <tr style=\"text-align: right;\">\n",
              "      <th></th>\n",
              "      <th>Subject</th>\n",
              "      <th>Datafile</th>\n",
              "      <th>Label</th>\n",
              "    </tr>\n",
              "  </thead>\n",
              "  <tbody>\n",
              "    <tr>\n",
              "      <th>0</th>\n",
              "      <td>Subject02</td>\n",
              "      <td>Subject02/Subject02_Aufnahme000.csv</td>\n",
              "      <td>curve-left-step</td>\n",
              "    </tr>\n",
              "    <tr>\n",
              "      <th>1</th>\n",
              "      <td>Subject02</td>\n",
              "      <td>Subject02/Subject02_Aufnahme001.csv</td>\n",
              "      <td>curve-left-step</td>\n",
              "    </tr>\n",
              "    <tr>\n",
              "      <th>2</th>\n",
              "      <td>Subject02</td>\n",
              "      <td>Subject02/Subject02_Aufnahme002.csv</td>\n",
              "      <td>stand-to-sit</td>\n",
              "    </tr>\n",
              "    <tr>\n",
              "      <th>3</th>\n",
              "      <td>Subject02</td>\n",
              "      <td>Subject02/Subject02_Aufnahme003.csv</td>\n",
              "      <td>curve-right-spin-Rfirst</td>\n",
              "    </tr>\n",
              "    <tr>\n",
              "      <th>4</th>\n",
              "      <td>Subject02</td>\n",
              "      <td>Subject02/Subject02_Aufnahme004.csv</td>\n",
              "      <td>jump-one-leg</td>\n",
              "    </tr>\n",
              "  </tbody>\n",
              "</table>\n",
              "</div>"
            ],
            "text/plain": [
              "     Subject                             Datafile                    Label\n",
              "0  Subject02  Subject02/Subject02_Aufnahme000.csv          curve-left-step\n",
              "1  Subject02  Subject02/Subject02_Aufnahme001.csv          curve-left-step\n",
              "2  Subject02  Subject02/Subject02_Aufnahme002.csv             stand-to-sit\n",
              "3  Subject02  Subject02/Subject02_Aufnahme003.csv  curve-right-spin-Rfirst\n",
              "4  Subject02  Subject02/Subject02_Aufnahme004.csv             jump-one-leg"
            ]
          },
          "metadata": {
            "tags": []
          },
          "execution_count": 23
        }
      ]
    },
    {
      "cell_type": "code",
      "metadata": {
        "id": "OMhsfRSXkBVE",
        "colab_type": "code",
        "colab": {}
      },
      "source": [
        "#train.insert(loc=2, column='PCA1', value=['' for i in range(train.shape[0])])\n",
        "#train.insert(loc=3, column='PCA2', value=['' for i in range(train.shape[0])])\n",
        "#train.insert(loc=4, column='PCA3', value=['' for i in range(train.shape[0])])"
      ],
      "execution_count": 0,
      "outputs": []
    },
    {
      "cell_type": "code",
      "metadata": {
        "id": "F8zo0jgTkBVL",
        "colab_type": "code",
        "outputId": "67944fde-0716-4c43-846d-ede394323f4a",
        "colab": {
          "base_uri": "https://localhost:8080/",
          "height": 197
        }
      },
      "source": [
        "train.head()"
      ],
      "execution_count": 25,
      "outputs": [
        {
          "output_type": "execute_result",
          "data": {
            "text/html": [
              "<div>\n",
              "<style scoped>\n",
              "    .dataframe tbody tr th:only-of-type {\n",
              "        vertical-align: middle;\n",
              "    }\n",
              "\n",
              "    .dataframe tbody tr th {\n",
              "        vertical-align: top;\n",
              "    }\n",
              "\n",
              "    .dataframe thead th {\n",
              "        text-align: right;\n",
              "    }\n",
              "</style>\n",
              "<table border=\"1\" class=\"dataframe\">\n",
              "  <thead>\n",
              "    <tr style=\"text-align: right;\">\n",
              "      <th></th>\n",
              "      <th>Subject</th>\n",
              "      <th>Datafile</th>\n",
              "      <th>Label</th>\n",
              "    </tr>\n",
              "  </thead>\n",
              "  <tbody>\n",
              "    <tr>\n",
              "      <th>0</th>\n",
              "      <td>Subject02</td>\n",
              "      <td>Subject02/Subject02_Aufnahme000.csv</td>\n",
              "      <td>curve-left-step</td>\n",
              "    </tr>\n",
              "    <tr>\n",
              "      <th>1</th>\n",
              "      <td>Subject02</td>\n",
              "      <td>Subject02/Subject02_Aufnahme001.csv</td>\n",
              "      <td>curve-left-step</td>\n",
              "    </tr>\n",
              "    <tr>\n",
              "      <th>2</th>\n",
              "      <td>Subject02</td>\n",
              "      <td>Subject02/Subject02_Aufnahme002.csv</td>\n",
              "      <td>stand-to-sit</td>\n",
              "    </tr>\n",
              "    <tr>\n",
              "      <th>3</th>\n",
              "      <td>Subject02</td>\n",
              "      <td>Subject02/Subject02_Aufnahme003.csv</td>\n",
              "      <td>curve-right-spin-Rfirst</td>\n",
              "    </tr>\n",
              "    <tr>\n",
              "      <th>4</th>\n",
              "      <td>Subject02</td>\n",
              "      <td>Subject02/Subject02_Aufnahme004.csv</td>\n",
              "      <td>jump-one-leg</td>\n",
              "    </tr>\n",
              "  </tbody>\n",
              "</table>\n",
              "</div>"
            ],
            "text/plain": [
              "     Subject                             Datafile                    Label\n",
              "0  Subject02  Subject02/Subject02_Aufnahme000.csv          curve-left-step\n",
              "1  Subject02  Subject02/Subject02_Aufnahme001.csv          curve-left-step\n",
              "2  Subject02  Subject02/Subject02_Aufnahme002.csv             stand-to-sit\n",
              "3  Subject02  Subject02/Subject02_Aufnahme003.csv  curve-right-spin-Rfirst\n",
              "4  Subject02  Subject02/Subject02_Aufnahme004.csv             jump-one-leg"
            ]
          },
          "metadata": {
            "tags": []
          },
          "execution_count": 25
        }
      ]
    },
    {
      "cell_type": "code",
      "metadata": {
        "id": "Yj7m0j4okBVU",
        "colab_type": "code",
        "outputId": "1d4fbf49-9349-423e-bd51-86292378e84e",
        "colab": {
          "base_uri": "https://localhost:8080/",
          "height": 34
        }
      },
      "source": [
        "train.Label[0]"
      ],
      "execution_count": 26,
      "outputs": [
        {
          "output_type": "execute_result",
          "data": {
            "text/plain": [
              "'curve-left-step'"
            ]
          },
          "metadata": {
            "tags": []
          },
          "execution_count": 26
        }
      ]
    },
    {
      "cell_type": "code",
      "metadata": {
        "id": "uDCNEwTPkBVb",
        "colab_type": "code",
        "outputId": "d6ff92a8-b53d-40b8-e9fc-753325437753",
        "colab": {
          "base_uri": "https://localhost:8080/",
          "height": 197
        }
      },
      "source": [
        "test.head()"
      ],
      "execution_count": 27,
      "outputs": [
        {
          "output_type": "execute_result",
          "data": {
            "text/html": [
              "<div>\n",
              "<style scoped>\n",
              "    .dataframe tbody tr th:only-of-type {\n",
              "        vertical-align: middle;\n",
              "    }\n",
              "\n",
              "    .dataframe tbody tr th {\n",
              "        vertical-align: top;\n",
              "    }\n",
              "\n",
              "    .dataframe thead th {\n",
              "        text-align: right;\n",
              "    }\n",
              "</style>\n",
              "<table border=\"1\" class=\"dataframe\">\n",
              "  <thead>\n",
              "    <tr style=\"text-align: right;\">\n",
              "      <th></th>\n",
              "      <th>Subject</th>\n",
              "      <th>Datafile</th>\n",
              "      <th>Label</th>\n",
              "    </tr>\n",
              "  </thead>\n",
              "  <tbody>\n",
              "    <tr>\n",
              "      <th>0</th>\n",
              "      <td>Subject01</td>\n",
              "      <td>Subject01/Subject01_Aufnahme000.csv</td>\n",
              "      <td>X</td>\n",
              "    </tr>\n",
              "    <tr>\n",
              "      <th>1</th>\n",
              "      <td>Subject01</td>\n",
              "      <td>Subject01/Subject01_Aufnahme001.csv</td>\n",
              "      <td>X</td>\n",
              "    </tr>\n",
              "    <tr>\n",
              "      <th>2</th>\n",
              "      <td>Subject01</td>\n",
              "      <td>Subject01/Subject01_Aufnahme002.csv</td>\n",
              "      <td>X</td>\n",
              "    </tr>\n",
              "    <tr>\n",
              "      <th>3</th>\n",
              "      <td>Subject01</td>\n",
              "      <td>Subject01/Subject01_Aufnahme003.csv</td>\n",
              "      <td>X</td>\n",
              "    </tr>\n",
              "    <tr>\n",
              "      <th>4</th>\n",
              "      <td>Subject01</td>\n",
              "      <td>Subject01/Subject01_Aufnahme004.csv</td>\n",
              "      <td>X</td>\n",
              "    </tr>\n",
              "  </tbody>\n",
              "</table>\n",
              "</div>"
            ],
            "text/plain": [
              "     Subject                             Datafile Label\n",
              "0  Subject01  Subject01/Subject01_Aufnahme000.csv     X\n",
              "1  Subject01  Subject01/Subject01_Aufnahme001.csv     X\n",
              "2  Subject01  Subject01/Subject01_Aufnahme002.csv     X\n",
              "3  Subject01  Subject01/Subject01_Aufnahme003.csv     X\n",
              "4  Subject01  Subject01/Subject01_Aufnahme004.csv     X"
            ]
          },
          "metadata": {
            "tags": []
          },
          "execution_count": 27
        }
      ]
    },
    {
      "cell_type": "code",
      "metadata": {
        "colab_type": "code",
        "id": "btH-YR2z3PPL",
        "colab": {}
      },
      "source": [
        "#train['Datafile'] = train['Datafile'].str.replace('/','\\\\')\n",
        "#test['Datafile'] = test['Datafile'].str.replace('/','\\\\')"
      ],
      "execution_count": 0,
      "outputs": []
    },
    {
      "cell_type": "code",
      "metadata": {
        "colab_type": "code",
        "id": "WczoPk2aCGND",
        "colab": {}
      },
      "source": [
        "#show the complete path of our traing csv\n",
        "train_cs = source+'/'+train['Datafile']\n",
        "test_cs = source+'/'+test['Datafile']"
      ],
      "execution_count": 0,
      "outputs": []
    },
    {
      "cell_type": "code",
      "metadata": {
        "colab_type": "code",
        "id": "ZFFzBU4a2Rb3",
        "outputId": "24f7a1d5-4897-4135-8ec8-6cbb831d5f35",
        "colab": {
          "base_uri": "https://localhost:8080/",
          "height": 923
        }
      },
      "source": [
        "train_cs"
      ],
      "execution_count": 30,
      "outputs": [
        {
          "output_type": "execute_result",
          "data": {
            "text/plain": [
              "0     /content/drive/My Drive/bbdc2019/Subjects/Subj...\n",
              "1     /content/drive/My Drive/bbdc2019/Subjects/Subj...\n",
              "2     /content/drive/My Drive/bbdc2019/Subjects/Subj...\n",
              "3     /content/drive/My Drive/bbdc2019/Subjects/Subj...\n",
              "4     /content/drive/My Drive/bbdc2019/Subjects/Subj...\n",
              "5     /content/drive/My Drive/bbdc2019/Subjects/Subj...\n",
              "6     /content/drive/My Drive/bbdc2019/Subjects/Subj...\n",
              "7     /content/drive/My Drive/bbdc2019/Subjects/Subj...\n",
              "8     /content/drive/My Drive/bbdc2019/Subjects/Subj...\n",
              "9     /content/drive/My Drive/bbdc2019/Subjects/Subj...\n",
              "10    /content/drive/My Drive/bbdc2019/Subjects/Subj...\n",
              "11    /content/drive/My Drive/bbdc2019/Subjects/Subj...\n",
              "12    /content/drive/My Drive/bbdc2019/Subjects/Subj...\n",
              "13    /content/drive/My Drive/bbdc2019/Subjects/Subj...\n",
              "14    /content/drive/My Drive/bbdc2019/Subjects/Subj...\n",
              "15    /content/drive/My Drive/bbdc2019/Subjects/Subj...\n",
              "16    /content/drive/My Drive/bbdc2019/Subjects/Subj...\n",
              "17    /content/drive/My Drive/bbdc2019/Subjects/Subj...\n",
              "18    /content/drive/My Drive/bbdc2019/Subjects/Subj...\n",
              "19    /content/drive/My Drive/bbdc2019/Subjects/Subj...\n",
              "20    /content/drive/My Drive/bbdc2019/Subjects/Subj...\n",
              "21    /content/drive/My Drive/bbdc2019/Subjects/Subj...\n",
              "22    /content/drive/My Drive/bbdc2019/Subjects/Subj...\n",
              "23    /content/drive/My Drive/bbdc2019/Subjects/Subj...\n",
              "24    /content/drive/My Drive/bbdc2019/Subjects/Subj...\n",
              "25    /content/drive/My Drive/bbdc2019/Subjects/Subj...\n",
              "26    /content/drive/My Drive/bbdc2019/Subjects/Subj...\n",
              "27    /content/drive/My Drive/bbdc2019/Subjects/Subj...\n",
              "28    /content/drive/My Drive/bbdc2019/Subjects/Subj...\n",
              "29    /content/drive/My Drive/bbdc2019/Subjects/Subj...\n",
              "30    /content/drive/My Drive/bbdc2019/Subjects/Subj...\n",
              "31    /content/drive/My Drive/bbdc2019/Subjects/Subj...\n",
              "32    /content/drive/My Drive/bbdc2019/Subjects/Subj...\n",
              "33    /content/drive/My Drive/bbdc2019/Subjects/Subj...\n",
              "34    /content/drive/My Drive/bbdc2019/Subjects/Subj...\n",
              "35    /content/drive/My Drive/bbdc2019/Subjects/Subj...\n",
              "36    /content/drive/My Drive/bbdc2019/Subjects/Subj...\n",
              "37    /content/drive/My Drive/bbdc2019/Subjects/Subj...\n",
              "38    /content/drive/My Drive/bbdc2019/Subjects/Subj...\n",
              "39    /content/drive/My Drive/bbdc2019/Subjects/Subj...\n",
              "40    /content/drive/My Drive/bbdc2019/Subjects/Subj...\n",
              "41    /content/drive/My Drive/bbdc2019/Subjects/Subj...\n",
              "42    /content/drive/My Drive/bbdc2019/Subjects/Subj...\n",
              "43    /content/drive/My Drive/bbdc2019/Subjects/Subj...\n",
              "44    /content/drive/My Drive/bbdc2019/Subjects/Subj...\n",
              "45    /content/drive/My Drive/bbdc2019/Subjects/Subj...\n",
              "46    /content/drive/My Drive/bbdc2019/Subjects/Subj...\n",
              "47    /content/drive/My Drive/bbdc2019/Subjects/Subj...\n",
              "48    /content/drive/My Drive/bbdc2019/Subjects/Subj...\n",
              "49    /content/drive/My Drive/bbdc2019/Subjects/Subj...\n",
              "Name: Datafile, dtype: object"
            ]
          },
          "metadata": {
            "tags": []
          },
          "execution_count": 30
        }
      ]
    },
    {
      "cell_type": "code",
      "metadata": {
        "id": "4JuVtGQXkBV3",
        "colab_type": "code",
        "outputId": "b6ad644a-0bc1-4617-ac63-8ba3df47c432",
        "colab": {
          "base_uri": "https://localhost:8080/",
          "height": 923
        }
      },
      "source": [
        "test_cs"
      ],
      "execution_count": 31,
      "outputs": [
        {
          "output_type": "execute_result",
          "data": {
            "text/plain": [
              "0     /content/drive/My Drive/bbdc2019/Subjects/Subj...\n",
              "1     /content/drive/My Drive/bbdc2019/Subjects/Subj...\n",
              "2     /content/drive/My Drive/bbdc2019/Subjects/Subj...\n",
              "3     /content/drive/My Drive/bbdc2019/Subjects/Subj...\n",
              "4     /content/drive/My Drive/bbdc2019/Subjects/Subj...\n",
              "5     /content/drive/My Drive/bbdc2019/Subjects/Subj...\n",
              "6     /content/drive/My Drive/bbdc2019/Subjects/Subj...\n",
              "7     /content/drive/My Drive/bbdc2019/Subjects/Subj...\n",
              "8     /content/drive/My Drive/bbdc2019/Subjects/Subj...\n",
              "9     /content/drive/My Drive/bbdc2019/Subjects/Subj...\n",
              "10    /content/drive/My Drive/bbdc2019/Subjects/Subj...\n",
              "11    /content/drive/My Drive/bbdc2019/Subjects/Subj...\n",
              "12    /content/drive/My Drive/bbdc2019/Subjects/Subj...\n",
              "13    /content/drive/My Drive/bbdc2019/Subjects/Subj...\n",
              "14    /content/drive/My Drive/bbdc2019/Subjects/Subj...\n",
              "15    /content/drive/My Drive/bbdc2019/Subjects/Subj...\n",
              "16    /content/drive/My Drive/bbdc2019/Subjects/Subj...\n",
              "17    /content/drive/My Drive/bbdc2019/Subjects/Subj...\n",
              "18    /content/drive/My Drive/bbdc2019/Subjects/Subj...\n",
              "19    /content/drive/My Drive/bbdc2019/Subjects/Subj...\n",
              "20    /content/drive/My Drive/bbdc2019/Subjects/Subj...\n",
              "21    /content/drive/My Drive/bbdc2019/Subjects/Subj...\n",
              "22    /content/drive/My Drive/bbdc2019/Subjects/Subj...\n",
              "23    /content/drive/My Drive/bbdc2019/Subjects/Subj...\n",
              "24    /content/drive/My Drive/bbdc2019/Subjects/Subj...\n",
              "25    /content/drive/My Drive/bbdc2019/Subjects/Subj...\n",
              "26    /content/drive/My Drive/bbdc2019/Subjects/Subj...\n",
              "27    /content/drive/My Drive/bbdc2019/Subjects/Subj...\n",
              "28    /content/drive/My Drive/bbdc2019/Subjects/Subj...\n",
              "29    /content/drive/My Drive/bbdc2019/Subjects/Subj...\n",
              "30    /content/drive/My Drive/bbdc2019/Subjects/Subj...\n",
              "31    /content/drive/My Drive/bbdc2019/Subjects/Subj...\n",
              "32    /content/drive/My Drive/bbdc2019/Subjects/Subj...\n",
              "33    /content/drive/My Drive/bbdc2019/Subjects/Subj...\n",
              "34    /content/drive/My Drive/bbdc2019/Subjects/Subj...\n",
              "35    /content/drive/My Drive/bbdc2019/Subjects/Subj...\n",
              "36    /content/drive/My Drive/bbdc2019/Subjects/Subj...\n",
              "37    /content/drive/My Drive/bbdc2019/Subjects/Subj...\n",
              "38    /content/drive/My Drive/bbdc2019/Subjects/Subj...\n",
              "39    /content/drive/My Drive/bbdc2019/Subjects/Subj...\n",
              "40    /content/drive/My Drive/bbdc2019/Subjects/Subj...\n",
              "41    /content/drive/My Drive/bbdc2019/Subjects/Subj...\n",
              "42    /content/drive/My Drive/bbdc2019/Subjects/Subj...\n",
              "43    /content/drive/My Drive/bbdc2019/Subjects/Subj...\n",
              "44    /content/drive/My Drive/bbdc2019/Subjects/Subj...\n",
              "45    /content/drive/My Drive/bbdc2019/Subjects/Subj...\n",
              "46    /content/drive/My Drive/bbdc2019/Subjects/Subj...\n",
              "47    /content/drive/My Drive/bbdc2019/Subjects/Subj...\n",
              "48    /content/drive/My Drive/bbdc2019/Subjects/Subj...\n",
              "49    /content/drive/My Drive/bbdc2019/Subjects/Subj...\n",
              "Name: Datafile, dtype: object"
            ]
          },
          "metadata": {
            "tags": []
          },
          "execution_count": 31
        }
      ]
    },
    {
      "cell_type": "code",
      "metadata": {
        "id": "yVJyCpx9kBWA",
        "colab_type": "code",
        "colab": {}
      },
      "source": [
        "df = train_cs\n",
        "dfs = test_cs"
      ],
      "execution_count": 0,
      "outputs": []
    },
    {
      "cell_type": "code",
      "metadata": {
        "id": "xptc9teXkBWI",
        "colab_type": "code",
        "outputId": "98118520-4e04-42a9-f88f-73c23c42b169",
        "colab": {
          "base_uri": "https://localhost:8080/",
          "height": 923
        }
      },
      "source": [
        "df"
      ],
      "execution_count": 33,
      "outputs": [
        {
          "output_type": "execute_result",
          "data": {
            "text/plain": [
              "0     /content/drive/My Drive/bbdc2019/Subjects/Subj...\n",
              "1     /content/drive/My Drive/bbdc2019/Subjects/Subj...\n",
              "2     /content/drive/My Drive/bbdc2019/Subjects/Subj...\n",
              "3     /content/drive/My Drive/bbdc2019/Subjects/Subj...\n",
              "4     /content/drive/My Drive/bbdc2019/Subjects/Subj...\n",
              "5     /content/drive/My Drive/bbdc2019/Subjects/Subj...\n",
              "6     /content/drive/My Drive/bbdc2019/Subjects/Subj...\n",
              "7     /content/drive/My Drive/bbdc2019/Subjects/Subj...\n",
              "8     /content/drive/My Drive/bbdc2019/Subjects/Subj...\n",
              "9     /content/drive/My Drive/bbdc2019/Subjects/Subj...\n",
              "10    /content/drive/My Drive/bbdc2019/Subjects/Subj...\n",
              "11    /content/drive/My Drive/bbdc2019/Subjects/Subj...\n",
              "12    /content/drive/My Drive/bbdc2019/Subjects/Subj...\n",
              "13    /content/drive/My Drive/bbdc2019/Subjects/Subj...\n",
              "14    /content/drive/My Drive/bbdc2019/Subjects/Subj...\n",
              "15    /content/drive/My Drive/bbdc2019/Subjects/Subj...\n",
              "16    /content/drive/My Drive/bbdc2019/Subjects/Subj...\n",
              "17    /content/drive/My Drive/bbdc2019/Subjects/Subj...\n",
              "18    /content/drive/My Drive/bbdc2019/Subjects/Subj...\n",
              "19    /content/drive/My Drive/bbdc2019/Subjects/Subj...\n",
              "20    /content/drive/My Drive/bbdc2019/Subjects/Subj...\n",
              "21    /content/drive/My Drive/bbdc2019/Subjects/Subj...\n",
              "22    /content/drive/My Drive/bbdc2019/Subjects/Subj...\n",
              "23    /content/drive/My Drive/bbdc2019/Subjects/Subj...\n",
              "24    /content/drive/My Drive/bbdc2019/Subjects/Subj...\n",
              "25    /content/drive/My Drive/bbdc2019/Subjects/Subj...\n",
              "26    /content/drive/My Drive/bbdc2019/Subjects/Subj...\n",
              "27    /content/drive/My Drive/bbdc2019/Subjects/Subj...\n",
              "28    /content/drive/My Drive/bbdc2019/Subjects/Subj...\n",
              "29    /content/drive/My Drive/bbdc2019/Subjects/Subj...\n",
              "30    /content/drive/My Drive/bbdc2019/Subjects/Subj...\n",
              "31    /content/drive/My Drive/bbdc2019/Subjects/Subj...\n",
              "32    /content/drive/My Drive/bbdc2019/Subjects/Subj...\n",
              "33    /content/drive/My Drive/bbdc2019/Subjects/Subj...\n",
              "34    /content/drive/My Drive/bbdc2019/Subjects/Subj...\n",
              "35    /content/drive/My Drive/bbdc2019/Subjects/Subj...\n",
              "36    /content/drive/My Drive/bbdc2019/Subjects/Subj...\n",
              "37    /content/drive/My Drive/bbdc2019/Subjects/Subj...\n",
              "38    /content/drive/My Drive/bbdc2019/Subjects/Subj...\n",
              "39    /content/drive/My Drive/bbdc2019/Subjects/Subj...\n",
              "40    /content/drive/My Drive/bbdc2019/Subjects/Subj...\n",
              "41    /content/drive/My Drive/bbdc2019/Subjects/Subj...\n",
              "42    /content/drive/My Drive/bbdc2019/Subjects/Subj...\n",
              "43    /content/drive/My Drive/bbdc2019/Subjects/Subj...\n",
              "44    /content/drive/My Drive/bbdc2019/Subjects/Subj...\n",
              "45    /content/drive/My Drive/bbdc2019/Subjects/Subj...\n",
              "46    /content/drive/My Drive/bbdc2019/Subjects/Subj...\n",
              "47    /content/drive/My Drive/bbdc2019/Subjects/Subj...\n",
              "48    /content/drive/My Drive/bbdc2019/Subjects/Subj...\n",
              "49    /content/drive/My Drive/bbdc2019/Subjects/Subj...\n",
              "Name: Datafile, dtype: object"
            ]
          },
          "metadata": {
            "tags": []
          },
          "execution_count": 33
        }
      ]
    },
    {
      "cell_type": "code",
      "metadata": {
        "id": "LV0n0d4rkBWP",
        "colab_type": "code",
        "outputId": "dcf4d23a-527f-4ea6-d07b-a975f0c9cb87",
        "colab": {
          "base_uri": "https://localhost:8080/",
          "height": 923
        }
      },
      "source": [
        "dfs"
      ],
      "execution_count": 34,
      "outputs": [
        {
          "output_type": "execute_result",
          "data": {
            "text/plain": [
              "0     /content/drive/My Drive/bbdc2019/Subjects/Subj...\n",
              "1     /content/drive/My Drive/bbdc2019/Subjects/Subj...\n",
              "2     /content/drive/My Drive/bbdc2019/Subjects/Subj...\n",
              "3     /content/drive/My Drive/bbdc2019/Subjects/Subj...\n",
              "4     /content/drive/My Drive/bbdc2019/Subjects/Subj...\n",
              "5     /content/drive/My Drive/bbdc2019/Subjects/Subj...\n",
              "6     /content/drive/My Drive/bbdc2019/Subjects/Subj...\n",
              "7     /content/drive/My Drive/bbdc2019/Subjects/Subj...\n",
              "8     /content/drive/My Drive/bbdc2019/Subjects/Subj...\n",
              "9     /content/drive/My Drive/bbdc2019/Subjects/Subj...\n",
              "10    /content/drive/My Drive/bbdc2019/Subjects/Subj...\n",
              "11    /content/drive/My Drive/bbdc2019/Subjects/Subj...\n",
              "12    /content/drive/My Drive/bbdc2019/Subjects/Subj...\n",
              "13    /content/drive/My Drive/bbdc2019/Subjects/Subj...\n",
              "14    /content/drive/My Drive/bbdc2019/Subjects/Subj...\n",
              "15    /content/drive/My Drive/bbdc2019/Subjects/Subj...\n",
              "16    /content/drive/My Drive/bbdc2019/Subjects/Subj...\n",
              "17    /content/drive/My Drive/bbdc2019/Subjects/Subj...\n",
              "18    /content/drive/My Drive/bbdc2019/Subjects/Subj...\n",
              "19    /content/drive/My Drive/bbdc2019/Subjects/Subj...\n",
              "20    /content/drive/My Drive/bbdc2019/Subjects/Subj...\n",
              "21    /content/drive/My Drive/bbdc2019/Subjects/Subj...\n",
              "22    /content/drive/My Drive/bbdc2019/Subjects/Subj...\n",
              "23    /content/drive/My Drive/bbdc2019/Subjects/Subj...\n",
              "24    /content/drive/My Drive/bbdc2019/Subjects/Subj...\n",
              "25    /content/drive/My Drive/bbdc2019/Subjects/Subj...\n",
              "26    /content/drive/My Drive/bbdc2019/Subjects/Subj...\n",
              "27    /content/drive/My Drive/bbdc2019/Subjects/Subj...\n",
              "28    /content/drive/My Drive/bbdc2019/Subjects/Subj...\n",
              "29    /content/drive/My Drive/bbdc2019/Subjects/Subj...\n",
              "30    /content/drive/My Drive/bbdc2019/Subjects/Subj...\n",
              "31    /content/drive/My Drive/bbdc2019/Subjects/Subj...\n",
              "32    /content/drive/My Drive/bbdc2019/Subjects/Subj...\n",
              "33    /content/drive/My Drive/bbdc2019/Subjects/Subj...\n",
              "34    /content/drive/My Drive/bbdc2019/Subjects/Subj...\n",
              "35    /content/drive/My Drive/bbdc2019/Subjects/Subj...\n",
              "36    /content/drive/My Drive/bbdc2019/Subjects/Subj...\n",
              "37    /content/drive/My Drive/bbdc2019/Subjects/Subj...\n",
              "38    /content/drive/My Drive/bbdc2019/Subjects/Subj...\n",
              "39    /content/drive/My Drive/bbdc2019/Subjects/Subj...\n",
              "40    /content/drive/My Drive/bbdc2019/Subjects/Subj...\n",
              "41    /content/drive/My Drive/bbdc2019/Subjects/Subj...\n",
              "42    /content/drive/My Drive/bbdc2019/Subjects/Subj...\n",
              "43    /content/drive/My Drive/bbdc2019/Subjects/Subj...\n",
              "44    /content/drive/My Drive/bbdc2019/Subjects/Subj...\n",
              "45    /content/drive/My Drive/bbdc2019/Subjects/Subj...\n",
              "46    /content/drive/My Drive/bbdc2019/Subjects/Subj...\n",
              "47    /content/drive/My Drive/bbdc2019/Subjects/Subj...\n",
              "48    /content/drive/My Drive/bbdc2019/Subjects/Subj...\n",
              "49    /content/drive/My Drive/bbdc2019/Subjects/Subj...\n",
              "Name: Datafile, dtype: object"
            ]
          },
          "metadata": {
            "tags": []
          },
          "execution_count": 34
        }
      ]
    },
    {
      "cell_type": "code",
      "metadata": {
        "id": "DudDCLLfkBWV",
        "colab_type": "code",
        "outputId": "fd50952f-7d51-4805-ecf3-4d86cfd76231",
        "colab": {
          "base_uri": "https://localhost:8080/",
          "height": 52
        }
      },
      "source": [
        "%%time\n",
        "\n",
        "import os\n",
        "import shutil\n",
        "import csv\n",
        "import sys\n",
        "\n",
        "for cs in df:\n",
        "  x = str(cs)\n",
        "  #shutil.copy(x, r\"/content/drive/My Drive/bbdc2019/train\", follow_symlinks=True)\n",
        "  #file.copy(x, r\"D:\\projec\\bd2019\\train\", recursive = TRUE,overwrite = TRUE, copy.mode = TRUE, copy.date = FALSE)\n",
        "  #file.copy(from = r\"cs\", to = r\"D:\\projec\\bd2019\\train\\\", recursive = TRUE)"
      ],
      "execution_count": 35,
      "outputs": [
        {
          "output_type": "stream",
          "text": [
            "CPU times: user 103 µs, sys: 0 ns, total: 103 µs\n",
            "Wall time: 108 µs\n"
          ],
          "name": "stdout"
        }
      ]
    },
    {
      "cell_type": "code",
      "metadata": {
        "id": "Vfrj8C8dzSBU",
        "colab_type": "code",
        "outputId": "967c0b0a-af41-48c9-be91-3f4f580e03be",
        "colab": {
          "base_uri": "https://localhost:8080/",
          "height": 52
        }
      },
      "source": [
        "%%time\n",
        "import os\n",
        "import shutil\n",
        "import csv\n",
        "import sys\n",
        "for c in dfs:\n",
        "  x = str(c)\n",
        "  #shutil.copy(x, r\"/content/drive/My Drive/bbdc2019/test\", follow_symlinks=True)"
      ],
      "execution_count": 36,
      "outputs": [
        {
          "output_type": "stream",
          "text": [
            "CPU times: user 68 µs, sys: 0 ns, total: 68 µs\n",
            "Wall time: 71 µs\n"
          ],
          "name": "stdout"
        }
      ]
    },
    {
      "cell_type": "code",
      "metadata": {
        "id": "dxDsPqodkBWm",
        "colab_type": "code",
        "outputId": "9f91d621-5bc6-4701-f93b-35c76d1c1f46",
        "colab": {
          "base_uri": "https://localhost:8080/",
          "height": 52
        }
      },
      "source": [
        "%%time\n",
        "train_df = dd.read_csv(r\"/content/drive/My Drive/bbdc2019/train/*.csv\",header = None).partitions[0:50]"
      ],
      "execution_count": 37,
      "outputs": [
        {
          "output_type": "stream",
          "text": [
            "CPU times: user 13.1 s, sys: 4.31 s, total: 17.4 s\n",
            "Wall time: 38.2 s\n"
          ],
          "name": "stdout"
        }
      ]
    },
    {
      "cell_type": "code",
      "metadata": {
        "id": "3VrP2MEtkBWq",
        "colab_type": "code",
        "outputId": "9054de61-204c-415c-ab03-b2565e670f55",
        "colab": {
          "base_uri": "https://localhost:8080/",
          "height": 296
        }
      },
      "source": [
        "%%time\n",
        "train_df"
      ],
      "execution_count": 38,
      "outputs": [
        {
          "output_type": "stream",
          "text": [
            "CPU times: user 3 µs, sys: 0 ns, total: 3 µs\n",
            "Wall time: 5.48 µs\n"
          ],
          "name": "stdout"
        },
        {
          "output_type": "execute_result",
          "data": {
            "text/html": [
              "<div><strong>Dask DataFrame Structure:</strong></div>\n",
              "<div>\n",
              "<style scoped>\n",
              "    .dataframe tbody tr th:only-of-type {\n",
              "        vertical-align: middle;\n",
              "    }\n",
              "\n",
              "    .dataframe tbody tr th {\n",
              "        vertical-align: top;\n",
              "    }\n",
              "\n",
              "    .dataframe thead th {\n",
              "        text-align: right;\n",
              "    }\n",
              "</style>\n",
              "<table border=\"1\" class=\"dataframe\">\n",
              "  <thead>\n",
              "    <tr style=\"text-align: right;\">\n",
              "      <th></th>\n",
              "      <th>0</th>\n",
              "      <th>1</th>\n",
              "      <th>2</th>\n",
              "      <th>3</th>\n",
              "      <th>4</th>\n",
              "      <th>5</th>\n",
              "      <th>6</th>\n",
              "      <th>7</th>\n",
              "      <th>8</th>\n",
              "      <th>9</th>\n",
              "      <th>10</th>\n",
              "      <th>11</th>\n",
              "      <th>12</th>\n",
              "      <th>13</th>\n",
              "      <th>14</th>\n",
              "      <th>15</th>\n",
              "      <th>16</th>\n",
              "      <th>17</th>\n",
              "      <th>18</th>\n",
              "    </tr>\n",
              "    <tr>\n",
              "      <th>npartitions=50</th>\n",
              "      <th></th>\n",
              "      <th></th>\n",
              "      <th></th>\n",
              "      <th></th>\n",
              "      <th></th>\n",
              "      <th></th>\n",
              "      <th></th>\n",
              "      <th></th>\n",
              "      <th></th>\n",
              "      <th></th>\n",
              "      <th></th>\n",
              "      <th></th>\n",
              "      <th></th>\n",
              "      <th></th>\n",
              "      <th></th>\n",
              "      <th></th>\n",
              "      <th></th>\n",
              "      <th></th>\n",
              "      <th></th>\n",
              "    </tr>\n",
              "  </thead>\n",
              "  <tbody>\n",
              "    <tr>\n",
              "      <th></th>\n",
              "      <td>int64</td>\n",
              "      <td>int64</td>\n",
              "      <td>int64</td>\n",
              "      <td>int64</td>\n",
              "      <td>int64</td>\n",
              "      <td>int64</td>\n",
              "      <td>int64</td>\n",
              "      <td>int64</td>\n",
              "      <td>int64</td>\n",
              "      <td>int64</td>\n",
              "      <td>int64</td>\n",
              "      <td>int64</td>\n",
              "      <td>int64</td>\n",
              "      <td>int64</td>\n",
              "      <td>int64</td>\n",
              "      <td>int64</td>\n",
              "      <td>int64</td>\n",
              "      <td>int64</td>\n",
              "      <td>int64</td>\n",
              "    </tr>\n",
              "    <tr>\n",
              "      <th></th>\n",
              "      <td>...</td>\n",
              "      <td>...</td>\n",
              "      <td>...</td>\n",
              "      <td>...</td>\n",
              "      <td>...</td>\n",
              "      <td>...</td>\n",
              "      <td>...</td>\n",
              "      <td>...</td>\n",
              "      <td>...</td>\n",
              "      <td>...</td>\n",
              "      <td>...</td>\n",
              "      <td>...</td>\n",
              "      <td>...</td>\n",
              "      <td>...</td>\n",
              "      <td>...</td>\n",
              "      <td>...</td>\n",
              "      <td>...</td>\n",
              "      <td>...</td>\n",
              "      <td>...</td>\n",
              "    </tr>\n",
              "    <tr>\n",
              "      <th>...</th>\n",
              "      <td>...</td>\n",
              "      <td>...</td>\n",
              "      <td>...</td>\n",
              "      <td>...</td>\n",
              "      <td>...</td>\n",
              "      <td>...</td>\n",
              "      <td>...</td>\n",
              "      <td>...</td>\n",
              "      <td>...</td>\n",
              "      <td>...</td>\n",
              "      <td>...</td>\n",
              "      <td>...</td>\n",
              "      <td>...</td>\n",
              "      <td>...</td>\n",
              "      <td>...</td>\n",
              "      <td>...</td>\n",
              "      <td>...</td>\n",
              "      <td>...</td>\n",
              "      <td>...</td>\n",
              "    </tr>\n",
              "    <tr>\n",
              "      <th></th>\n",
              "      <td>...</td>\n",
              "      <td>...</td>\n",
              "      <td>...</td>\n",
              "      <td>...</td>\n",
              "      <td>...</td>\n",
              "      <td>...</td>\n",
              "      <td>...</td>\n",
              "      <td>...</td>\n",
              "      <td>...</td>\n",
              "      <td>...</td>\n",
              "      <td>...</td>\n",
              "      <td>...</td>\n",
              "      <td>...</td>\n",
              "      <td>...</td>\n",
              "      <td>...</td>\n",
              "      <td>...</td>\n",
              "      <td>...</td>\n",
              "      <td>...</td>\n",
              "      <td>...</td>\n",
              "    </tr>\n",
              "    <tr>\n",
              "      <th></th>\n",
              "      <td>...</td>\n",
              "      <td>...</td>\n",
              "      <td>...</td>\n",
              "      <td>...</td>\n",
              "      <td>...</td>\n",
              "      <td>...</td>\n",
              "      <td>...</td>\n",
              "      <td>...</td>\n",
              "      <td>...</td>\n",
              "      <td>...</td>\n",
              "      <td>...</td>\n",
              "      <td>...</td>\n",
              "      <td>...</td>\n",
              "      <td>...</td>\n",
              "      <td>...</td>\n",
              "      <td>...</td>\n",
              "      <td>...</td>\n",
              "      <td>...</td>\n",
              "      <td>...</td>\n",
              "    </tr>\n",
              "  </tbody>\n",
              "</table>\n",
              "</div>\n",
              "<div>Dask Name: blocks, 19253 tasks</div>"
            ],
            "text/plain": [
              "Dask DataFrame Structure:\n",
              "                   0      1      2      3      4      5      6      7      8      9      10     11     12     13     14     15     16     17     18\n",
              "npartitions=50                                                                                                                                     \n",
              "                int64  int64  int64  int64  int64  int64  int64  int64  int64  int64  int64  int64  int64  int64  int64  int64  int64  int64  int64\n",
              "                  ...    ...    ...    ...    ...    ...    ...    ...    ...    ...    ...    ...    ...    ...    ...    ...    ...    ...    ...\n",
              "...               ...    ...    ...    ...    ...    ...    ...    ...    ...    ...    ...    ...    ...    ...    ...    ...    ...    ...    ...\n",
              "                  ...    ...    ...    ...    ...    ...    ...    ...    ...    ...    ...    ...    ...    ...    ...    ...    ...    ...    ...\n",
              "                  ...    ...    ...    ...    ...    ...    ...    ...    ...    ...    ...    ...    ...    ...    ...    ...    ...    ...    ...\n",
              "Dask Name: blocks, 19253 tasks"
            ]
          },
          "metadata": {
            "tags": []
          },
          "execution_count": 38
        }
      ]
    },
    {
      "cell_type": "code",
      "metadata": {
        "id": "y4Uq2QQ0kBWw",
        "colab_type": "code",
        "outputId": "a1950c5e-c225-42f1-b4e0-09b138eae96d",
        "colab": {
          "base_uri": "https://localhost:8080/",
          "height": 52
        }
      },
      "source": [
        "%%time\n",
        "test_df = dd.read_csv(r\"/content/drive/My Drive/bbdc2019/train/*.csv\",header = None).partitions[0:50]"
      ],
      "execution_count": 39,
      "outputs": [
        {
          "output_type": "stream",
          "text": [
            "CPU times: user 11 s, sys: 3.74 s, total: 14.8 s\n",
            "Wall time: 25.6 s\n"
          ],
          "name": "stdout"
        }
      ]
    },
    {
      "cell_type": "code",
      "metadata": {
        "id": "SAhxYEZGkBW0",
        "colab_type": "code",
        "outputId": "b6d535a4-7dd7-4259-8a8a-de160eb8699d",
        "colab": {
          "base_uri": "https://localhost:8080/",
          "height": 197
        }
      },
      "source": [
        "test_df.head()"
      ],
      "execution_count": 40,
      "outputs": [
        {
          "output_type": "execute_result",
          "data": {
            "text/html": [
              "<div>\n",
              "<style scoped>\n",
              "    .dataframe tbody tr th:only-of-type {\n",
              "        vertical-align: middle;\n",
              "    }\n",
              "\n",
              "    .dataframe tbody tr th {\n",
              "        vertical-align: top;\n",
              "    }\n",
              "\n",
              "    .dataframe thead th {\n",
              "        text-align: right;\n",
              "    }\n",
              "</style>\n",
              "<table border=\"1\" class=\"dataframe\">\n",
              "  <thead>\n",
              "    <tr style=\"text-align: right;\">\n",
              "      <th></th>\n",
              "      <th>0</th>\n",
              "      <th>1</th>\n",
              "      <th>2</th>\n",
              "      <th>3</th>\n",
              "      <th>4</th>\n",
              "      <th>5</th>\n",
              "      <th>6</th>\n",
              "      <th>7</th>\n",
              "      <th>8</th>\n",
              "      <th>9</th>\n",
              "      <th>10</th>\n",
              "      <th>11</th>\n",
              "      <th>12</th>\n",
              "      <th>13</th>\n",
              "      <th>14</th>\n",
              "      <th>15</th>\n",
              "      <th>16</th>\n",
              "      <th>17</th>\n",
              "      <th>18</th>\n",
              "    </tr>\n",
              "  </thead>\n",
              "  <tbody>\n",
              "    <tr>\n",
              "      <th>0</th>\n",
              "      <td>32688</td>\n",
              "      <td>32224</td>\n",
              "      <td>32991</td>\n",
              "      <td>32609</td>\n",
              "      <td>32790</td>\n",
              "      <td>33048</td>\n",
              "      <td>37168</td>\n",
              "      <td>34610</td>\n",
              "      <td>27374</td>\n",
              "      <td>29068</td>\n",
              "      <td>29264</td>\n",
              "      <td>28408</td>\n",
              "      <td>31784</td>\n",
              "      <td>28133</td>\n",
              "      <td>29295</td>\n",
              "      <td>29244</td>\n",
              "      <td>33216</td>\n",
              "      <td>37140</td>\n",
              "      <td>34736</td>\n",
              "    </tr>\n",
              "    <tr>\n",
              "      <th>1</th>\n",
              "      <td>32744</td>\n",
              "      <td>32571</td>\n",
              "      <td>32935</td>\n",
              "      <td>32279</td>\n",
              "      <td>32863</td>\n",
              "      <td>33048</td>\n",
              "      <td>37168</td>\n",
              "      <td>34610</td>\n",
              "      <td>27374</td>\n",
              "      <td>29068</td>\n",
              "      <td>29264</td>\n",
              "      <td>28408</td>\n",
              "      <td>31784</td>\n",
              "      <td>28133</td>\n",
              "      <td>29295</td>\n",
              "      <td>29244</td>\n",
              "      <td>33216</td>\n",
              "      <td>37140</td>\n",
              "      <td>34736</td>\n",
              "    </tr>\n",
              "    <tr>\n",
              "      <th>2</th>\n",
              "      <td>32788</td>\n",
              "      <td>32934</td>\n",
              "      <td>32767</td>\n",
              "      <td>32624</td>\n",
              "      <td>32899</td>\n",
              "      <td>33048</td>\n",
              "      <td>37168</td>\n",
              "      <td>34610</td>\n",
              "      <td>27374</td>\n",
              "      <td>29068</td>\n",
              "      <td>29264</td>\n",
              "      <td>28408</td>\n",
              "      <td>31784</td>\n",
              "      <td>28133</td>\n",
              "      <td>29295</td>\n",
              "      <td>29244</td>\n",
              "      <td>33216</td>\n",
              "      <td>37140</td>\n",
              "      <td>34736</td>\n",
              "    </tr>\n",
              "    <tr>\n",
              "      <th>3</th>\n",
              "      <td>32828</td>\n",
              "      <td>33202</td>\n",
              "      <td>32587</td>\n",
              "      <td>32377</td>\n",
              "      <td>32783</td>\n",
              "      <td>33048</td>\n",
              "      <td>37168</td>\n",
              "      <td>34610</td>\n",
              "      <td>27374</td>\n",
              "      <td>29068</td>\n",
              "      <td>29264</td>\n",
              "      <td>28408</td>\n",
              "      <td>31784</td>\n",
              "      <td>28133</td>\n",
              "      <td>29295</td>\n",
              "      <td>29244</td>\n",
              "      <td>33216</td>\n",
              "      <td>37140</td>\n",
              "      <td>34736</td>\n",
              "    </tr>\n",
              "    <tr>\n",
              "      <th>4</th>\n",
              "      <td>32870</td>\n",
              "      <td>33269</td>\n",
              "      <td>32423</td>\n",
              "      <td>32954</td>\n",
              "      <td>32719</td>\n",
              "      <td>33048</td>\n",
              "      <td>37168</td>\n",
              "      <td>34610</td>\n",
              "      <td>27374</td>\n",
              "      <td>29068</td>\n",
              "      <td>29264</td>\n",
              "      <td>28408</td>\n",
              "      <td>31784</td>\n",
              "      <td>28133</td>\n",
              "      <td>29295</td>\n",
              "      <td>29244</td>\n",
              "      <td>33216</td>\n",
              "      <td>37140</td>\n",
              "      <td>34736</td>\n",
              "    </tr>\n",
              "  </tbody>\n",
              "</table>\n",
              "</div>"
            ],
            "text/plain": [
              "      0      1      2      3      4   ...     14     15     16     17     18\n",
              "0  32688  32224  32991  32609  32790  ...  29295  29244  33216  37140  34736\n",
              "1  32744  32571  32935  32279  32863  ...  29295  29244  33216  37140  34736\n",
              "2  32788  32934  32767  32624  32899  ...  29295  29244  33216  37140  34736\n",
              "3  32828  33202  32587  32377  32783  ...  29295  29244  33216  37140  34736\n",
              "4  32870  33269  32423  32954  32719  ...  29295  29244  33216  37140  34736\n",
              "\n",
              "[5 rows x 19 columns]"
            ]
          },
          "metadata": {
            "tags": []
          },
          "execution_count": 40
        }
      ]
    },
    {
      "cell_type": "code",
      "metadata": {
        "id": "kvnNJsJgMtA0",
        "colab_type": "code",
        "outputId": "06e994f3-b7bb-407b-a9cb-cc0955e7520b",
        "colab": {
          "base_uri": "https://localhost:8080/",
          "height": 52
        }
      },
      "source": [
        "%%time\n",
        "scaler = StandardScaler()\n",
        "X_scaled = scaler.fit_transform(train_df)"
      ],
      "execution_count": 41,
      "outputs": [
        {
          "output_type": "stream",
          "text": [
            "CPU times: user 4.56 s, sys: 43.7 ms, total: 4.6 s\n",
            "Wall time: 4.02 s\n"
          ],
          "name": "stdout"
        }
      ]
    },
    {
      "cell_type": "code",
      "metadata": {
        "id": "v49QO__7TEUo",
        "colab_type": "code",
        "outputId": "89fe5052-fb49-4029-8bde-f52ab7e22a36",
        "colab": {
          "base_uri": "https://localhost:8080/",
          "height": 52
        }
      },
      "source": [
        "%%time\n",
        "from sklearn.decomposition import PCA"
      ],
      "execution_count": 42,
      "outputs": [
        {
          "output_type": "stream",
          "text": [
            "CPU times: user 28.9 ms, sys: 2.68 ms, total: 31.6 ms\n",
            "Wall time: 32.1 ms\n"
          ],
          "name": "stdout"
        }
      ]
    },
    {
      "cell_type": "code",
      "metadata": {
        "id": "0dUJakIeTEoI",
        "colab_type": "code",
        "outputId": "74036f2a-0fc1-421e-efda-363ba355bb42",
        "colab": {
          "base_uri": "https://localhost:8080/",
          "height": 52
        }
      },
      "source": [
        "%%time\n",
        "# Project the data onto the 2 primary principal components\n",
        "pca = PCA(n_components=3, random_state = 42)\n",
        "pca.fit(X_scaled)"
      ],
      "execution_count": 43,
      "outputs": [
        {
          "output_type": "stream",
          "text": [
            "CPU times: user 419 ms, sys: 235 ms, total: 654 ms\n",
            "Wall time: 345 ms\n"
          ],
          "name": "stdout"
        }
      ]
    },
    {
      "cell_type": "code",
      "metadata": {
        "id": "YdKfMNyvUqAy",
        "colab_type": "code",
        "colab": {}
      },
      "source": [
        "X_pca = pca.transform(X_scaled)"
      ],
      "execution_count": 0,
      "outputs": []
    },
    {
      "cell_type": "code",
      "metadata": {
        "id": "_o3FWrBLkizu",
        "colab_type": "code",
        "outputId": "86745edf-8cba-4a60-913e-483a89a327eb",
        "colab": {
          "base_uri": "https://localhost:8080/",
          "height": 406
        }
      },
      "source": [
        "Xpca_df = pd.DataFrame(X_pca, columns=['PCA1', 'PCA2','PCA3'])\n",
        "Xpca_df"
      ],
      "execution_count": 45,
      "outputs": [
        {
          "output_type": "execute_result",
          "data": {
            "text/html": [
              "<div>\n",
              "<style scoped>\n",
              "    .dataframe tbody tr th:only-of-type {\n",
              "        vertical-align: middle;\n",
              "    }\n",
              "\n",
              "    .dataframe tbody tr th {\n",
              "        vertical-align: top;\n",
              "    }\n",
              "\n",
              "    .dataframe thead th {\n",
              "        text-align: right;\n",
              "    }\n",
              "</style>\n",
              "<table border=\"1\" class=\"dataframe\">\n",
              "  <thead>\n",
              "    <tr style=\"text-align: right;\">\n",
              "      <th></th>\n",
              "      <th>PCA1</th>\n",
              "      <th>PCA2</th>\n",
              "      <th>PCA3</th>\n",
              "    </tr>\n",
              "  </thead>\n",
              "  <tbody>\n",
              "    <tr>\n",
              "      <th>0</th>\n",
              "      <td>-0.011848</td>\n",
              "      <td>0.314590</td>\n",
              "      <td>0.308046</td>\n",
              "    </tr>\n",
              "    <tr>\n",
              "      <th>1</th>\n",
              "      <td>-0.009845</td>\n",
              "      <td>0.308187</td>\n",
              "      <td>0.304326</td>\n",
              "    </tr>\n",
              "    <tr>\n",
              "      <th>2</th>\n",
              "      <td>-0.010435</td>\n",
              "      <td>0.316770</td>\n",
              "      <td>0.307237</td>\n",
              "    </tr>\n",
              "    <tr>\n",
              "      <th>3</th>\n",
              "      <td>-0.007774</td>\n",
              "      <td>0.312601</td>\n",
              "      <td>0.302873</td>\n",
              "    </tr>\n",
              "    <tr>\n",
              "      <th>4</th>\n",
              "      <td>-0.009502</td>\n",
              "      <td>0.325739</td>\n",
              "      <td>0.307968</td>\n",
              "    </tr>\n",
              "    <tr>\n",
              "      <th>...</th>\n",
              "      <td>...</td>\n",
              "      <td>...</td>\n",
              "      <td>...</td>\n",
              "    </tr>\n",
              "    <tr>\n",
              "      <th>137955</th>\n",
              "      <td>0.223845</td>\n",
              "      <td>-0.795930</td>\n",
              "      <td>1.259106</td>\n",
              "    </tr>\n",
              "    <tr>\n",
              "      <th>137956</th>\n",
              "      <td>0.225369</td>\n",
              "      <td>-0.793449</td>\n",
              "      <td>1.259056</td>\n",
              "    </tr>\n",
              "    <tr>\n",
              "      <th>137957</th>\n",
              "      <td>0.221930</td>\n",
              "      <td>-0.790249</td>\n",
              "      <td>1.265358</td>\n",
              "    </tr>\n",
              "    <tr>\n",
              "      <th>137958</th>\n",
              "      <td>0.219051</td>\n",
              "      <td>-0.789848</td>\n",
              "      <td>1.270690</td>\n",
              "    </tr>\n",
              "    <tr>\n",
              "      <th>137959</th>\n",
              "      <td>0.219126</td>\n",
              "      <td>-0.795744</td>\n",
              "      <td>1.270250</td>\n",
              "    </tr>\n",
              "  </tbody>\n",
              "</table>\n",
              "<p>137960 rows × 3 columns</p>\n",
              "</div>"
            ],
            "text/plain": [
              "            PCA1      PCA2      PCA3\n",
              "0      -0.011848  0.314590  0.308046\n",
              "1      -0.009845  0.308187  0.304326\n",
              "2      -0.010435  0.316770  0.307237\n",
              "3      -0.007774  0.312601  0.302873\n",
              "4      -0.009502  0.325739  0.307968\n",
              "...          ...       ...       ...\n",
              "137955  0.223845 -0.795930  1.259106\n",
              "137956  0.225369 -0.793449  1.259056\n",
              "137957  0.221930 -0.790249  1.265358\n",
              "137958  0.219051 -0.789848  1.270690\n",
              "137959  0.219126 -0.795744  1.270250\n",
              "\n",
              "[137960 rows x 3 columns]"
            ]
          },
          "metadata": {
            "tags": []
          },
          "execution_count": 45
        }
      ]
    },
    {
      "cell_type": "code",
      "metadata": {
        "id": "_PDOsQw8U3rb",
        "colab_type": "code",
        "outputId": "c302367b-430d-400d-b045-c6a4dfb137c5",
        "colab": {
          "base_uri": "https://localhost:8080/",
          "height": 34
        }
      },
      "source": [
        "X_scaled.shape, X_pca.shape"
      ],
      "execution_count": 46,
      "outputs": [
        {
          "output_type": "execute_result",
          "data": {
            "text/plain": [
              "((137960, 19), (137960, 3))"
            ]
          },
          "metadata": {
            "tags": []
          },
          "execution_count": 46
        }
      ]
    },
    {
      "cell_type": "code",
      "metadata": {
        "id": "ihHMdzeGuhct",
        "colab_type": "code",
        "colab": {}
      },
      "source": [
        "Xpca_df.insert(loc=3, column='targets', value=['' for i in range(Xpca_df.shape[0])])"
      ],
      "execution_count": 0,
      "outputs": []
    },
    {
      "cell_type": "code",
      "metadata": {
        "id": "Hf8VVtaGyaqo",
        "colab_type": "code",
        "outputId": "785683d8-4f79-437b-e042-e303d3e4e194",
        "colab": {
          "base_uri": "https://localhost:8080/",
          "height": 34
        }
      },
      "source": [
        "len(train_df.partitions[0]),len(train_df.partitions[1]),len(train_df.partitions[2]),len(train_df.partitions[2])"
      ],
      "execution_count": 48,
      "outputs": [
        {
          "output_type": "execute_result",
          "data": {
            "text/plain": [
              "(6159, 5569, 2589, 2589)"
            ]
          },
          "metadata": {
            "tags": []
          },
          "execution_count": 48
        }
      ]
    },
    {
      "cell_type": "code",
      "metadata": {
        "id": "zyM4OJZ493qJ",
        "colab_type": "code",
        "outputId": "eb62deef-5b14-4d67-cf58-f464a2a72609",
        "colab": {
          "base_uri": "https://localhost:8080/",
          "height": 261
        }
      },
      "source": [
        "train_df"
      ],
      "execution_count": 50,
      "outputs": [
        {
          "output_type": "execute_result",
          "data": {
            "text/html": [
              "<div><strong>Dask DataFrame Structure:</strong></div>\n",
              "<div>\n",
              "<style scoped>\n",
              "    .dataframe tbody tr th:only-of-type {\n",
              "        vertical-align: middle;\n",
              "    }\n",
              "\n",
              "    .dataframe tbody tr th {\n",
              "        vertical-align: top;\n",
              "    }\n",
              "\n",
              "    .dataframe thead th {\n",
              "        text-align: right;\n",
              "    }\n",
              "</style>\n",
              "<table border=\"1\" class=\"dataframe\">\n",
              "  <thead>\n",
              "    <tr style=\"text-align: right;\">\n",
              "      <th></th>\n",
              "      <th>0</th>\n",
              "      <th>1</th>\n",
              "      <th>2</th>\n",
              "      <th>3</th>\n",
              "      <th>4</th>\n",
              "      <th>5</th>\n",
              "      <th>6</th>\n",
              "      <th>7</th>\n",
              "      <th>8</th>\n",
              "      <th>9</th>\n",
              "      <th>10</th>\n",
              "      <th>11</th>\n",
              "      <th>12</th>\n",
              "      <th>13</th>\n",
              "      <th>14</th>\n",
              "      <th>15</th>\n",
              "      <th>16</th>\n",
              "      <th>17</th>\n",
              "      <th>18</th>\n",
              "    </tr>\n",
              "    <tr>\n",
              "      <th>npartitions=50</th>\n",
              "      <th></th>\n",
              "      <th></th>\n",
              "      <th></th>\n",
              "      <th></th>\n",
              "      <th></th>\n",
              "      <th></th>\n",
              "      <th></th>\n",
              "      <th></th>\n",
              "      <th></th>\n",
              "      <th></th>\n",
              "      <th></th>\n",
              "      <th></th>\n",
              "      <th></th>\n",
              "      <th></th>\n",
              "      <th></th>\n",
              "      <th></th>\n",
              "      <th></th>\n",
              "      <th></th>\n",
              "      <th></th>\n",
              "    </tr>\n",
              "  </thead>\n",
              "  <tbody>\n",
              "    <tr>\n",
              "      <th></th>\n",
              "      <td>int64</td>\n",
              "      <td>int64</td>\n",
              "      <td>int64</td>\n",
              "      <td>int64</td>\n",
              "      <td>int64</td>\n",
              "      <td>int64</td>\n",
              "      <td>int64</td>\n",
              "      <td>int64</td>\n",
              "      <td>int64</td>\n",
              "      <td>int64</td>\n",
              "      <td>int64</td>\n",
              "      <td>int64</td>\n",
              "      <td>int64</td>\n",
              "      <td>int64</td>\n",
              "      <td>int64</td>\n",
              "      <td>int64</td>\n",
              "      <td>int64</td>\n",
              "      <td>int64</td>\n",
              "      <td>int64</td>\n",
              "    </tr>\n",
              "    <tr>\n",
              "      <th></th>\n",
              "      <td>...</td>\n",
              "      <td>...</td>\n",
              "      <td>...</td>\n",
              "      <td>...</td>\n",
              "      <td>...</td>\n",
              "      <td>...</td>\n",
              "      <td>...</td>\n",
              "      <td>...</td>\n",
              "      <td>...</td>\n",
              "      <td>...</td>\n",
              "      <td>...</td>\n",
              "      <td>...</td>\n",
              "      <td>...</td>\n",
              "      <td>...</td>\n",
              "      <td>...</td>\n",
              "      <td>...</td>\n",
              "      <td>...</td>\n",
              "      <td>...</td>\n",
              "      <td>...</td>\n",
              "    </tr>\n",
              "    <tr>\n",
              "      <th>...</th>\n",
              "      <td>...</td>\n",
              "      <td>...</td>\n",
              "      <td>...</td>\n",
              "      <td>...</td>\n",
              "      <td>...</td>\n",
              "      <td>...</td>\n",
              "      <td>...</td>\n",
              "      <td>...</td>\n",
              "      <td>...</td>\n",
              "      <td>...</td>\n",
              "      <td>...</td>\n",
              "      <td>...</td>\n",
              "      <td>...</td>\n",
              "      <td>...</td>\n",
              "      <td>...</td>\n",
              "      <td>...</td>\n",
              "      <td>...</td>\n",
              "      <td>...</td>\n",
              "      <td>...</td>\n",
              "    </tr>\n",
              "    <tr>\n",
              "      <th></th>\n",
              "      <td>...</td>\n",
              "      <td>...</td>\n",
              "      <td>...</td>\n",
              "      <td>...</td>\n",
              "      <td>...</td>\n",
              "      <td>...</td>\n",
              "      <td>...</td>\n",
              "      <td>...</td>\n",
              "      <td>...</td>\n",
              "      <td>...</td>\n",
              "      <td>...</td>\n",
              "      <td>...</td>\n",
              "      <td>...</td>\n",
              "      <td>...</td>\n",
              "      <td>...</td>\n",
              "      <td>...</td>\n",
              "      <td>...</td>\n",
              "      <td>...</td>\n",
              "      <td>...</td>\n",
              "    </tr>\n",
              "    <tr>\n",
              "      <th></th>\n",
              "      <td>...</td>\n",
              "      <td>...</td>\n",
              "      <td>...</td>\n",
              "      <td>...</td>\n",
              "      <td>...</td>\n",
              "      <td>...</td>\n",
              "      <td>...</td>\n",
              "      <td>...</td>\n",
              "      <td>...</td>\n",
              "      <td>...</td>\n",
              "      <td>...</td>\n",
              "      <td>...</td>\n",
              "      <td>...</td>\n",
              "      <td>...</td>\n",
              "      <td>...</td>\n",
              "      <td>...</td>\n",
              "      <td>...</td>\n",
              "      <td>...</td>\n",
              "      <td>...</td>\n",
              "    </tr>\n",
              "  </tbody>\n",
              "</table>\n",
              "</div>\n",
              "<div>Dask Name: blocks, 19253 tasks</div>"
            ],
            "text/plain": [
              "Dask DataFrame Structure:\n",
              "                   0      1      2      3      4      5      6      7      8      9      10     11     12     13     14     15     16     17     18\n",
              "npartitions=50                                                                                                                                     \n",
              "                int64  int64  int64  int64  int64  int64  int64  int64  int64  int64  int64  int64  int64  int64  int64  int64  int64  int64  int64\n",
              "                  ...    ...    ...    ...    ...    ...    ...    ...    ...    ...    ...    ...    ...    ...    ...    ...    ...    ...    ...\n",
              "...               ...    ...    ...    ...    ...    ...    ...    ...    ...    ...    ...    ...    ...    ...    ...    ...    ...    ...    ...\n",
              "                  ...    ...    ...    ...    ...    ...    ...    ...    ...    ...    ...    ...    ...    ...    ...    ...    ...    ...    ...\n",
              "                  ...    ...    ...    ...    ...    ...    ...    ...    ...    ...    ...    ...    ...    ...    ...    ...    ...    ...    ...\n",
              "Dask Name: blocks, 19253 tasks"
            ]
          },
          "metadata": {
            "tags": []
          },
          "execution_count": 50
        }
      ]
    },
    {
      "cell_type": "code",
      "metadata": {
        "id": "VZMGO1Niya7k",
        "colab_type": "code",
        "outputId": "590ed4fb-eef3-421f-c717-79980d80cc50",
        "colab": {
          "base_uri": "https://localhost:8080/",
          "height": 34
        }
      },
      "source": [
        "train.Label[0],train.Label[1],train.Label[2]"
      ],
      "execution_count": 51,
      "outputs": [
        {
          "output_type": "execute_result",
          "data": {
            "text/plain": [
              "('curve-left-step', 'curve-left-step', 'stand-to-sit')"
            ]
          },
          "metadata": {
            "tags": []
          },
          "execution_count": 51
        }
      ]
    },
    {
      "cell_type": "code",
      "metadata": {
        "id": "qcziKMm_tAbZ",
        "colab_type": "code",
        "colab": {}
      },
      "source": [
        "tar = []\n",
        "for i in range(0, 50):\n",
        "  for j in range(0,len(train_df.partitions[i])):\n",
        "    tar.append(train.Label[i])\n"
      ],
      "execution_count": 0,
      "outputs": []
    },
    {
      "cell_type": "code",
      "metadata": {
        "id": "gU9iuxfE6E99",
        "colab_type": "code",
        "outputId": "ce04ed24-6aee-49e6-8534-283286c3eef0",
        "colab": {
          "base_uri": "https://localhost:8080/",
          "height": 34
        }
      },
      "source": [
        "len(tar)"
      ],
      "execution_count": 53,
      "outputs": [
        {
          "output_type": "execute_result",
          "data": {
            "text/plain": [
              "137960"
            ]
          },
          "metadata": {
            "tags": []
          },
          "execution_count": 53
        }
      ]
    },
    {
      "cell_type": "code",
      "metadata": {
        "id": "OvQSaFN9xmJB",
        "colab_type": "code",
        "outputId": "667de096-cbc1-4c46-92bd-8495b8808506",
        "colab": {
          "base_uri": "https://localhost:8080/",
          "height": 34
        }
      },
      "source": [
        "tar[1000],tar[9000],tar[13000],tar[17000]"
      ],
      "execution_count": 54,
      "outputs": [
        {
          "output_type": "execute_result",
          "data": {
            "text/plain": [
              "('curve-left-step', 'curve-left-step', 'stand-to-sit', 'jump-one-leg')"
            ]
          },
          "metadata": {
            "tags": []
          },
          "execution_count": 54
        }
      ]
    },
    {
      "cell_type": "code",
      "metadata": {
        "id": "MqPdwVP612h4",
        "colab_type": "code",
        "colab": {}
      },
      "source": [
        "Xpca_df['targets'] = tar"
      ],
      "execution_count": 0,
      "outputs": []
    },
    {
      "cell_type": "code",
      "metadata": {
        "id": "0wfijlOwW-R9",
        "colab_type": "code",
        "outputId": "167b3130-da97-4e59-b6ca-4b2be653074e",
        "colab": {
          "base_uri": "https://localhost:8080/",
          "height": 514
        }
      },
      "source": [
        "import itertools\n",
        "plt.figure(figsize=(20,8))\n",
        "\n",
        "#plt.scatter(X_pca[:,0],X_pca[:,1], c=colors , cmap = 'viridis')\n",
        "ax = sns.scatterplot(X_pca[:,0],X_pca[:,1], hue=\"targets\",\n",
        "                     data=Xpca_df)\n",
        "plt.xlabel('First Prrincipal Component Analysis')\n",
        "plt.ylabel('Second Prrincipal Component Analysis')"
      ],
      "execution_count": 56,
      "outputs": [
        {
          "output_type": "execute_result",
          "data": {
            "text/plain": [
              "Text(0, 0.5, 'Second Prrincipal Component Analysis')"
            ]
          },
          "metadata": {
            "tags": []
          },
          "execution_count": 56
        },
        {
          "output_type": "display_data",
          "data": {
            "image/png": "[encoded data removed]",
            "text/plain": [
              "<Figure size 1440x576 with 1 Axes>"
            ]
          },
          "metadata": {
            "tags": [],
            "needs_background": "light"
          }
        }
      ]
    },
    {
      "cell_type": "code",
      "metadata": {
        "id": "VZ4h_263kBXO",
        "colab_type": "code",
        "outputId": "7904ac4d-5fdf-4b1b-8546-e4a098ab702a",
        "colab": {
          "base_uri": "https://localhost:8080/",
          "height": 34
        }
      },
      "source": [
        "\n",
        "pca.explained_variance_ratio_"
      ],
      "execution_count": 57,
      "outputs": [
        {
          "output_type": "execute_result",
          "data": {
            "text/plain": [
              "array([0.13270814, 0.10155647, 0.09292853])"
            ]
          },
          "metadata": {
            "tags": []
          },
          "execution_count": 57
        }
      ]
    },
    {
      "cell_type": "code",
      "metadata": {
        "id": "i-AcT1T-S5pT",
        "colab_type": "code",
        "outputId": "ba3285bb-c99e-4bdf-f967-66c79d8c65c6",
        "colab": {
          "base_uri": "https://localhost:8080/",
          "height": 282
        }
      },
      "source": [
        "pca = PCA(n_components=3, random_state=42)\n",
        "X_pca = pca.fit_transform(X_scaled)\n",
        "variance = pca.explained_variance_ratio_\n",
        "\n",
        "plt.bar(x = range(1, len(variance)+1),height=variance, width = 0.7)"
      ],
      "execution_count": 58,
      "outputs": [
        {
          "output_type": "execute_result",
          "data": {
            "text/plain": [
              "<BarContainer object of 3 artists>"
            ]
          },
          "metadata": {
            "tags": []
          },
          "execution_count": 58
        },
        {
          "output_type": "display_data",
          "data": {
            "image/png": "[encoded data removed]",
            "text/plain": [
              "<Figure size 432x288 with 1 Axes>"
            ]
          },
          "metadata": {
            "tags": [],
            "needs_background": "light"
          }
        }
      ]
    },
    {
      "cell_type": "code",
      "metadata": {
        "id": "h4wwHG2YFvwT",
        "colab_type": "code",
        "outputId": "412e7a5c-609f-4ddc-cacc-e0f4b6a23d36",
        "colab": {
          "base_uri": "https://localhost:8080/",
          "height": 34
        }
      },
      "source": [
        "variance"
      ],
      "execution_count": 59,
      "outputs": [
        {
          "output_type": "execute_result",
          "data": {
            "text/plain": [
              "array([0.13270814, 0.10155647, 0.09292853])"
            ]
          },
          "metadata": {
            "tags": []
          },
          "execution_count": 59
        }
      ]
    },
    {
      "cell_type": "code",
      "metadata": {
        "id": "OjrwEvfsYK4y",
        "colab_type": "code",
        "colab": {}
      },
      "source": [
        "import numpy as np\n",
        "import plotly.express as px"
      ],
      "execution_count": 0,
      "outputs": []
    },
    {
      "cell_type": "code",
      "metadata": {
        "id": "4uHJys-BYd-i",
        "colab_type": "code",
        "outputId": "89b5560c-35fa-4d9b-db00-d02e3faafe8a",
        "colab": {
          "base_uri": "https://localhost:8080/",
          "height": 34
        }
      },
      "source": [
        "explained_variance = pca.explained_variance_ratio_\n",
        "explained_variance"
      ],
      "execution_count": 61,
      "outputs": [
        {
          "output_type": "execute_result",
          "data": {
            "text/plain": [
              "array([0.13270814, 0.10155647, 0.09292853])"
            ]
          },
          "metadata": {
            "tags": []
          },
          "execution_count": 61
        }
      ]
    },
    {
      "cell_type": "code",
      "metadata": {
        "colab_type": "code",
        "id": "9kAFIBUxOiT0",
        "colab": {}
      },
      "source": [
        "explained_variance = np.insert(explained_variance, 0, 0)"
      ],
      "execution_count": 0,
      "outputs": []
    },
    {
      "cell_type": "code",
      "metadata": {
        "id": "gqDEcwk2Yiz4",
        "colab_type": "code",
        "colab": {}
      },
      "source": [
        "cumulative_variance = np.cumsum(np.round(explained_variance, decimals=3))"
      ],
      "execution_count": 0,
      "outputs": []
    },
    {
      "cell_type": "code",
      "metadata": {
        "id": "fXiiRaHUYtyp",
        "colab_type": "code",
        "colab": {}
      },
      "source": [
        "pc_df = pd.DataFrame(['','PC1', 'PC2','PC3'], columns=['PC'])\n",
        "explained_variance_df = pd.DataFrame(explained_variance, columns=['Explained Variance'])\n",
        "cumulative_variance_df = pd.DataFrame(cumulative_variance, columns=['Cumulative Variance'])"
      ],
      "execution_count": 0,
      "outputs": []
    },
    {
      "cell_type": "code",
      "metadata": {
        "id": "fnf3NGdhZTh6",
        "colab_type": "code",
        "outputId": "b27ec953-4567-4dba-ac56-739adeb7d7dd",
        "colab": {
          "base_uri": "https://localhost:8080/",
          "height": 167
        }
      },
      "source": [
        "df_explained_variance = pd.concat([pc_df, explained_variance_df, cumulative_variance_df], axis=1)\n",
        "df_explained_variance"
      ],
      "execution_count": 65,
      "outputs": [
        {
          "output_type": "execute_result",
          "data": {
            "text/html": [
              "<div>\n",
              "<style scoped>\n",
              "    .dataframe tbody tr th:only-of-type {\n",
              "        vertical-align: middle;\n",
              "    }\n",
              "\n",
              "    .dataframe tbody tr th {\n",
              "        vertical-align: top;\n",
              "    }\n",
              "\n",
              "    .dataframe thead th {\n",
              "        text-align: right;\n",
              "    }\n",
              "</style>\n",
              "<table border=\"1\" class=\"dataframe\">\n",
              "  <thead>\n",
              "    <tr style=\"text-align: right;\">\n",
              "      <th></th>\n",
              "      <th>PC</th>\n",
              "      <th>Explained Variance</th>\n",
              "      <th>Cumulative Variance</th>\n",
              "    </tr>\n",
              "  </thead>\n",
              "  <tbody>\n",
              "    <tr>\n",
              "      <th>0</th>\n",
              "      <td></td>\n",
              "      <td>0.000000</td>\n",
              "      <td>0.000</td>\n",
              "    </tr>\n",
              "    <tr>\n",
              "      <th>1</th>\n",
              "      <td>PC1</td>\n",
              "      <td>0.132708</td>\n",
              "      <td>0.133</td>\n",
              "    </tr>\n",
              "    <tr>\n",
              "      <th>2</th>\n",
              "      <td>PC2</td>\n",
              "      <td>0.101556</td>\n",
              "      <td>0.235</td>\n",
              "    </tr>\n",
              "    <tr>\n",
              "      <th>3</th>\n",
              "      <td>PC3</td>\n",
              "      <td>0.092929</td>\n",
              "      <td>0.328</td>\n",
              "    </tr>\n",
              "  </tbody>\n",
              "</table>\n",
              "</div>"
            ],
            "text/plain": [
              "    PC  Explained Variance  Cumulative Variance\n",
              "0                 0.000000                0.000\n",
              "1  PC1            0.132708                0.133\n",
              "2  PC2            0.101556                0.235\n",
              "3  PC3            0.092929                0.328"
            ]
          },
          "metadata": {
            "tags": []
          },
          "execution_count": 65
        }
      ]
    },
    {
      "cell_type": "code",
      "metadata": {
        "id": "iN2b2NvlZnuf",
        "colab_type": "code",
        "outputId": "8929860b-a839-4462-c756-5ba36cf6612c",
        "colab": {
          "base_uri": "https://localhost:8080/",
          "height": 542
        }
      },
      "source": [
        "fig = px.bar(df_explained_variance, \n",
        "             x='PC', y='Explained Variance',\n",
        "             text='Explained Variance',\n",
        "             width=800)\n",
        "\n",
        "fig.update_traces(texttemplate='%{text:.3f}', textposition='outside')\n",
        "fig.show()"
      ],
      "execution_count": 66,
      "outputs": [
        {
          "output_type": "display_data",
          "data": {
            "text/html": [
              "<html>\n",
              "<head><meta charset=\"utf-8\" /></head>\n",
              "<body>\n",
              "    <div>\n",
              "            <script src=\"https://cdnjs.cloudflare.com/ajax/libs/mathjax/2.7.5/MathJax.js?config=TeX-AMS-MML_SVG\"></script><script type=\"text/javascript\">if (window.MathJax) {MathJax.Hub.Config({SVG: {font: \"STIX-Web\"}});}</script>\n",
              "                <script type=\"text/javascript\">window.PlotlyConfig = {MathJaxConfig: 'local'};</script>\n",
              "        <script src=\"https://cdn.plot.ly/plotly-latest.min.js\"></script>    \n",
              "            <div id=\"2d2110bf-c6b3-4c83-ade4-e074af011b31\" class=\"plotly-graph-div\" style=\"height:525px; width:800px;\"></div>\n",
              "            <script type=\"text/javascript\">\n",
              "                \n",
              "                    window.PLOTLYENV=window.PLOTLYENV || {};\n",
              "                    \n",
              "                if (document.getElementById(\"2d2110bf-c6b3-4c83-ade4-e074af011b31\")) {\n",
              "                    Plotly.newPlot(\n",
              "                        '2d2110bf-c6b3-4c83-ade4-e074af011b31',\n",
              "                        [{\"alignmentgroup\": \"True\", \"hoverlabel\": {\"namelength\": 0}, \"hovertemplate\": \"PC=%{x}<br>Explained Variance=%{text}\", \"legendgroup\": \"\", \"marker\": {\"color\": \"#636efa\"}, \"name\": \"\", \"offsetgroup\": \"\", \"orientation\": \"v\", \"showlegend\": false, \"text\": [0.0, 0.13270813770871034, 0.10155647389305561, 0.09292853354089207], \"textposition\": \"outside\", \"texttemplate\": \"%{text:.3f}\", \"type\": \"bar\", \"x\": [\"\", \"PC1\", \"PC2\", \"PC3\"], \"xaxis\": \"x\", \"y\": [0.0, 0.13270813770871034, 0.10155647389305561, 0.09292853354089207], \"yaxis\": \"y\"}],\n",
              "                        {\"barmode\": \"relative\", \"legend\": {\"tracegroupgap\": 0}, \"margin\": {\"t\": 60}, \"template\": {\"data\": {\"bar\": [{\"error_x\": {\"color\": \"#2a3f5f\"}, \"error_y\": {\"color\": \"#2a3f5f\"}, \"marker\": {\"line\": {\"color\": \"#E5ECF6\", \"width\": 0.5}}, \"type\": \"bar\"}], \"barpolar\": [{\"marker\": {\"line\": {\"color\": \"#E5ECF6\", \"width\": 0.5}}, \"type\": \"barpolar\"}], \"carpet\": [{\"aaxis\": {\"endlinecolor\": \"#2a3f5f\", \"gridcolor\": \"white\", \"linecolor\": \"white\", \"minorgridcolor\": \"white\", \"startlinecolor\": \"#2a3f5f\"}, \"baxis\": {\"endlinecolor\": \"#2a3f5f\", \"gridcolor\": \"white\", \"linecolor\": \"white\", \"minorgridcolor\": \"white\", \"startlinecolor\": \"#2a3f5f\"}, \"type\": \"carpet\"}], \"choropleth\": [{\"colorbar\": {\"outlinewidth\": 0, \"ticks\": \"\"}, \"type\": \"choropleth\"}], \"contour\": [{\"colorbar\": {\"outlinewidth\": 0, \"ticks\": \"\"}, \"colorscale\": [[0.0, \"#0d0887\"], [0.1111111111111111, \"#46039f\"], [0.2222222222222222, \"#7201a8\"], [0.3333333333333333, \"#9c179e\"], [0.4444444444444444, \"#bd3786\"], [0.5555555555555556, \"#d8576b\"], [0.6666666666666666, \"#ed7953\"], [0.7777777777777778, \"#fb9f3a\"], [0.8888888888888888, \"#fdca26\"], [1.0, \"#f0f921\"]], \"type\": \"contour\"}], \"contourcarpet\": [{\"colorbar\": {\"outlinewidth\": 0, \"ticks\": \"\"}, \"type\": \"contourcarpet\"}], \"heatmap\": [{\"colorbar\": {\"outlinewidth\": 0, \"ticks\": \"\"}, \"colorscale\": [[0.0, \"#0d0887\"], [0.1111111111111111, \"#46039f\"], [0.2222222222222222, \"#7201a8\"], [0.3333333333333333, \"#9c179e\"], [0.4444444444444444, \"#bd3786\"], [0.5555555555555556, \"#d8576b\"], [0.6666666666666666, \"#ed7953\"], [0.7777777777777778, \"#fb9f3a\"], [0.8888888888888888, \"#fdca26\"], [1.0, \"#f0f921\"]], \"type\": \"heatmap\"}], \"heatmapgl\": [{\"colorbar\": {\"outlinewidth\": 0, \"ticks\": \"\"}, \"colorscale\": [[0.0, \"#0d0887\"], [0.1111111111111111, \"#46039f\"], [0.2222222222222222, \"#7201a8\"], [0.3333333333333333, \"#9c179e\"], [0.4444444444444444, \"#bd3786\"], [0.5555555555555556, \"#d8576b\"], [0.6666666666666666, \"#ed7953\"], [0.7777777777777778, \"#fb9f3a\"], [0.8888888888888888, \"#fdca26\"], [1.0, \"#f0f921\"]], \"type\": \"heatmapgl\"}], \"histogram\": [{\"marker\": {\"colorbar\": {\"outlinewidth\": 0, \"ticks\": \"\"}}, \"type\": \"histogram\"}], \"histogram2d\": [{\"colorbar\": {\"outlinewidth\": 0, \"ticks\": \"\"}, \"colorscale\": [[0.0, \"#0d0887\"], [0.1111111111111111, \"#46039f\"], [0.2222222222222222, \"#7201a8\"], [0.3333333333333333, \"#9c179e\"], [0.4444444444444444, \"#bd3786\"], [0.5555555555555556, \"#d8576b\"], [0.6666666666666666, \"#ed7953\"], [0.7777777777777778, \"#fb9f3a\"], [0.8888888888888888, \"#fdca26\"], [1.0, \"#f0f921\"]], \"type\": \"histogram2d\"}], \"histogram2dcontour\": [{\"colorbar\": {\"outlinewidth\": 0, \"ticks\": \"\"}, \"colorscale\": [[0.0, \"#0d0887\"], [0.1111111111111111, \"#46039f\"], [0.2222222222222222, \"#7201a8\"], [0.3333333333333333, \"#9c179e\"], [0.4444444444444444, \"#bd3786\"], [0.5555555555555556, \"#d8576b\"], [0.6666666666666666, \"#ed7953\"], [0.7777777777777778, \"#fb9f3a\"], [0.8888888888888888, \"#fdca26\"], [1.0, \"#f0f921\"]], \"type\": \"histogram2dcontour\"}], \"mesh3d\": [{\"colorbar\": {\"outlinewidth\": 0, \"ticks\": \"\"}, \"type\": \"mesh3d\"}], \"parcoords\": [{\"line\": {\"colorbar\": {\"outlinewidth\": 0, \"ticks\": \"\"}}, \"type\": \"parcoords\"}], \"pie\": [{\"automargin\": true, \"type\": \"pie\"}], \"scatter\": [{\"marker\": {\"colorbar\": {\"outlinewidth\": 0, \"ticks\": \"\"}}, \"type\": \"scatter\"}], \"scatter3d\": [{\"line\": {\"colorbar\": {\"outlinewidth\": 0, \"ticks\": \"\"}}, \"marker\": {\"colorbar\": {\"outlinewidth\": 0, \"ticks\": \"\"}}, \"type\": \"scatter3d\"}], \"scattercarpet\": [{\"marker\": {\"colorbar\": {\"outlinewidth\": 0, \"ticks\": \"\"}}, \"type\": \"scattercarpet\"}], \"scattergeo\": [{\"marker\": {\"colorbar\": {\"outlinewidth\": 0, \"ticks\": \"\"}}, \"type\": \"scattergeo\"}], \"scattergl\": [{\"marker\": {\"colorbar\": {\"outlinewidth\": 0, \"ticks\": \"\"}}, \"type\": \"scattergl\"}], \"scattermapbox\": [{\"marker\": {\"colorbar\": {\"outlinewidth\": 0, \"ticks\": \"\"}}, \"type\": \"scattermapbox\"}], \"scatterpolar\": [{\"marker\": {\"colorbar\": {\"outlinewidth\": 0, \"ticks\": \"\"}}, \"type\": \"scatterpolar\"}], \"scatterpolargl\": [{\"marker\": {\"colorbar\": {\"outlinewidth\": 0, \"ticks\": \"\"}}, \"type\": \"scatterpolargl\"}], \"scatterternary\": [{\"marker\": {\"colorbar\": {\"outlinewidth\": 0, \"ticks\": \"\"}}, \"type\": \"scatterternary\"}], \"surface\": [{\"colorbar\": {\"outlinewidth\": 0, \"ticks\": \"\"}, \"colorscale\": [[0.0, \"#0d0887\"], [0.1111111111111111, \"#46039f\"], [0.2222222222222222, \"#7201a8\"], [0.3333333333333333, \"#9c179e\"], [0.4444444444444444, \"#bd3786\"], [0.5555555555555556, \"#d8576b\"], [0.6666666666666666, \"#ed7953\"], [0.7777777777777778, \"#fb9f3a\"], [0.8888888888888888, \"#fdca26\"], [1.0, \"#f0f921\"]], \"type\": \"surface\"}], \"table\": [{\"cells\": {\"fill\": {\"color\": \"#EBF0F8\"}, \"line\": {\"color\": \"white\"}}, \"header\": {\"fill\": {\"color\": \"#C8D4E3\"}, \"line\": {\"color\": \"white\"}}, \"type\": \"table\"}]}, \"layout\": {\"annotationdefaults\": {\"arrowcolor\": \"#2a3f5f\", \"arrowhead\": 0, \"arrowwidth\": 1}, \"coloraxis\": {\"colorbar\": {\"outlinewidth\": 0, \"ticks\": \"\"}}, \"colorscale\": {\"diverging\": [[0, \"#8e0152\"], [0.1, \"#c51b7d\"], [0.2, \"#de77ae\"], [0.3, \"#f1b6da\"], [0.4, \"#fde0ef\"], [0.5, \"#f7f7f7\"], [0.6, \"#e6f5d0\"], [0.7, \"#b8e186\"], [0.8, \"#7fbc41\"], [0.9, \"#4d9221\"], [1, \"#276419\"]], \"sequential\": [[0.0, \"#0d0887\"], [0.1111111111111111, \"#46039f\"], [0.2222222222222222, \"#7201a8\"], [0.3333333333333333, \"#9c179e\"], [0.4444444444444444, \"#bd3786\"], [0.5555555555555556, \"#d8576b\"], [0.6666666666666666, \"#ed7953\"], [0.7777777777777778, \"#fb9f3a\"], [0.8888888888888888, \"#fdca26\"], [1.0, \"#f0f921\"]], \"sequentialminus\": [[0.0, \"#0d0887\"], [0.1111111111111111, \"#46039f\"], [0.2222222222222222, \"#7201a8\"], [0.3333333333333333, \"#9c179e\"], [0.4444444444444444, \"#bd3786\"], [0.5555555555555556, \"#d8576b\"], [0.6666666666666666, \"#ed7953\"], [0.7777777777777778, \"#fb9f3a\"], [0.8888888888888888, \"#fdca26\"], [1.0, \"#f0f921\"]]}, \"colorway\": [\"#636efa\", \"#EF553B\", \"#00cc96\", \"#ab63fa\", \"#FFA15A\", \"#19d3f3\", \"#FF6692\", \"#B6E880\", \"#FF97FF\", \"#FECB52\"], \"font\": {\"color\": \"#2a3f5f\"}, \"geo\": {\"bgcolor\": \"white\", \"lakecolor\": \"white\", \"landcolor\": \"#E5ECF6\", \"showlakes\": true, \"showland\": true, \"subunitcolor\": \"white\"}, \"hoverlabel\": {\"align\": \"left\"}, \"hovermode\": \"closest\", \"mapbox\": {\"style\": \"light\"}, \"paper_bgcolor\": \"white\", \"plot_bgcolor\": \"#E5ECF6\", \"polar\": {\"angularaxis\": {\"gridcolor\": \"white\", \"linecolor\": \"white\", \"ticks\": \"\"}, \"bgcolor\": \"#E5ECF6\", \"radialaxis\": {\"gridcolor\": \"white\", \"linecolor\": \"white\", \"ticks\": \"\"}}, \"scene\": {\"xaxis\": {\"backgroundcolor\": \"#E5ECF6\", \"gridcolor\": \"white\", \"gridwidth\": 2, \"linecolor\": \"white\", \"showbackground\": true, \"ticks\": \"\", \"zerolinecolor\": \"white\"}, \"yaxis\": {\"backgroundcolor\": \"#E5ECF6\", \"gridcolor\": \"white\", \"gridwidth\": 2, \"linecolor\": \"white\", \"showbackground\": true, \"ticks\": \"\", \"zerolinecolor\": \"white\"}, \"zaxis\": {\"backgroundcolor\": \"#E5ECF6\", \"gridcolor\": \"white\", \"gridwidth\": 2, \"linecolor\": \"white\", \"showbackground\": true, \"ticks\": \"\", \"zerolinecolor\": \"white\"}}, \"shapedefaults\": {\"line\": {\"color\": \"#2a3f5f\"}}, \"ternary\": {\"aaxis\": {\"gridcolor\": \"white\", \"linecolor\": \"white\", \"ticks\": \"\"}, \"baxis\": {\"gridcolor\": \"white\", \"linecolor\": \"white\", \"ticks\": \"\"}, \"bgcolor\": \"#E5ECF6\", \"caxis\": {\"gridcolor\": \"white\", \"linecolor\": \"white\", \"ticks\": \"\"}}, \"title\": {\"x\": 0.05}, \"xaxis\": {\"automargin\": true, \"gridcolor\": \"white\", \"linecolor\": \"white\", \"ticks\": \"\", \"title\": {\"standoff\": 15}, \"zerolinecolor\": \"white\", \"zerolinewidth\": 2}, \"yaxis\": {\"automargin\": true, \"gridcolor\": \"white\", \"linecolor\": \"white\", \"ticks\": \"\", \"title\": {\"standoff\": 15}, \"zerolinecolor\": \"white\", \"zerolinewidth\": 2}}}, \"width\": 800, \"xaxis\": {\"anchor\": \"y\", \"domain\": [0.0, 1.0], \"title\": {\"text\": \"PC\"}}, \"yaxis\": {\"anchor\": \"x\", \"domain\": [0.0, 1.0], \"title\": {\"text\": \"Explained Variance\"}}},\n",
              "                        {\"responsive\": true}\n",
              "                    ).then(function(){\n",
              "                            \n",
              "var gd = document.getElementById('2d2110bf-c6b3-4c83-ade4-e074af011b31');\n",
              "var x = new MutationObserver(function (mutations, observer) {{\n",
              "        var display = window.getComputedStyle(gd).display;\n",
              "        if (!display || display === 'none') {{\n",
              "            console.log([gd, 'removed!']);\n",
              "            Plotly.purge(gd);\n",
              "            observer.disconnect();\n",
              "        }}\n",
              "}});\n",
              "\n",
              "// Listen for the removal of the full notebook cells\n",
              "var notebookContainer = gd.closest('#notebook-container');\n",
              "if (notebookContainer) {{\n",
              "    x.observe(notebookContainer, {childList: true});\n",
              "}}\n",
              "\n",
              "// Listen for the clearing of the current output cell\n",
              "var outputEl = gd.closest('.output');\n",
              "if (outputEl) {{\n",
              "    x.observe(outputEl, {childList: true});\n",
              "}}\n",
              "\n",
              "                        })\n",
              "                };\n",
              "                \n",
              "            </script>\n",
              "        </div>\n",
              "</body>\n",
              "</html>"
            ]
          },
          "metadata": {
            "tags": []
          }
        }
      ]
    },
    {
      "cell_type": "code",
      "metadata": {
        "id": "lYiHkmRXZ7j2",
        "colab_type": "code",
        "outputId": "d206672e-ea23-4063-eba2-935f48c02a90",
        "colab": {
          "base_uri": "https://localhost:8080/",
          "height": 542
        }
      },
      "source": [
        "import plotly.graph_objects as go\n",
        "\n",
        "fig = go.Figure()\n",
        "\n",
        "fig.add_trace(\n",
        "    go.Scatter(\n",
        "        x=df_explained_variance['PC'],\n",
        "        y=df_explained_variance['Cumulative Variance'],\n",
        "        marker=dict(size=15, color=\"LightSeaGreen\")\n",
        "    ))\n",
        "\n",
        "fig.add_trace(\n",
        "    go.Bar(\n",
        "        x=df_explained_variance['PC'],\n",
        "        y=df_explained_variance['Explained Variance'],\n",
        "        marker=dict(color=\"RoyalBlue\")\n",
        "    ))\n",
        "\n",
        "fig.show()"
      ],
      "execution_count": 67,
      "outputs": [
        {
          "output_type": "display_data",
          "data": {
            "text/html": [
              "<html>\n",
              "<head><meta charset=\"utf-8\" /></head>\n",
              "<body>\n",
              "    <div>\n",
              "            <script src=\"https://cdnjs.cloudflare.com/ajax/libs/mathjax/2.7.5/MathJax.js?config=TeX-AMS-MML_SVG\"></script><script type=\"text/javascript\">if (window.MathJax) {MathJax.Hub.Config({SVG: {font: \"STIX-Web\"}});}</script>\n",
              "                <script type=\"text/javascript\">window.PlotlyConfig = {MathJaxConfig: 'local'};</script>\n",
              "        <script src=\"https://cdn.plot.ly/plotly-latest.min.js\"></script>    \n",
              "            <div id=\"905d3d04-4fb9-4346-9c75-792c8f37688a\" class=\"plotly-graph-div\" style=\"height:525px; width:100%;\"></div>\n",
              "            <script type=\"text/javascript\">\n",
              "                \n",
              "                    window.PLOTLYENV=window.PLOTLYENV || {};\n",
              "                    \n",
              "                if (document.getElementById(\"905d3d04-4fb9-4346-9c75-792c8f37688a\")) {\n",
              "                    Plotly.newPlot(\n",
              "                        '905d3d04-4fb9-4346-9c75-792c8f37688a',\n",
              "                        [{\"marker\": {\"color\": \"LightSeaGreen\", \"size\": 15}, \"type\": \"scatter\", \"x\": [\"\", \"PC1\", \"PC2\", \"PC3\"], \"y\": [0.0, 0.133, 0.235, 0.32799999999999996]}, {\"marker\": {\"color\": \"RoyalBlue\"}, \"type\": \"bar\", \"x\": [\"\", \"PC1\", \"PC2\", \"PC3\"], \"y\": [0.0, 0.13270813770871034, 0.10155647389305561, 0.09292853354089207]}],\n",
              "                        {\"template\": {\"data\": {\"bar\": [{\"error_x\": {\"color\": \"#2a3f5f\"}, \"error_y\": {\"color\": \"#2a3f5f\"}, \"marker\": {\"line\": {\"color\": \"#E5ECF6\", \"width\": 0.5}}, \"type\": \"bar\"}], \"barpolar\": [{\"marker\": {\"line\": {\"color\": \"#E5ECF6\", \"width\": 0.5}}, \"type\": \"barpolar\"}], \"carpet\": [{\"aaxis\": {\"endlinecolor\": \"#2a3f5f\", \"gridcolor\": \"white\", \"linecolor\": \"white\", \"minorgridcolor\": \"white\", \"startlinecolor\": \"#2a3f5f\"}, \"baxis\": {\"endlinecolor\": \"#2a3f5f\", \"gridcolor\": \"white\", \"linecolor\": \"white\", \"minorgridcolor\": \"white\", \"startlinecolor\": \"#2a3f5f\"}, \"type\": \"carpet\"}], \"choropleth\": [{\"colorbar\": {\"outlinewidth\": 0, \"ticks\": \"\"}, \"type\": \"choropleth\"}], \"contour\": [{\"colorbar\": {\"outlinewidth\": 0, \"ticks\": \"\"}, \"colorscale\": [[0.0, \"#0d0887\"], [0.1111111111111111, \"#46039f\"], [0.2222222222222222, \"#7201a8\"], [0.3333333333333333, \"#9c179e\"], [0.4444444444444444, \"#bd3786\"], [0.5555555555555556, \"#d8576b\"], [0.6666666666666666, \"#ed7953\"], [0.7777777777777778, \"#fb9f3a\"], [0.8888888888888888, \"#fdca26\"], [1.0, \"#f0f921\"]], \"type\": \"contour\"}], \"contourcarpet\": [{\"colorbar\": {\"outlinewidth\": 0, \"ticks\": \"\"}, \"type\": \"contourcarpet\"}], \"heatmap\": [{\"colorbar\": {\"outlinewidth\": 0, \"ticks\": \"\"}, \"colorscale\": [[0.0, \"#0d0887\"], [0.1111111111111111, \"#46039f\"], [0.2222222222222222, \"#7201a8\"], [0.3333333333333333, \"#9c179e\"], [0.4444444444444444, \"#bd3786\"], [0.5555555555555556, \"#d8576b\"], [0.6666666666666666, \"#ed7953\"], [0.7777777777777778, \"#fb9f3a\"], [0.8888888888888888, \"#fdca26\"], [1.0, \"#f0f921\"]], \"type\": \"heatmap\"}], \"heatmapgl\": [{\"colorbar\": {\"outlinewidth\": 0, \"ticks\": \"\"}, \"colorscale\": [[0.0, \"#0d0887\"], [0.1111111111111111, \"#46039f\"], [0.2222222222222222, \"#7201a8\"], [0.3333333333333333, \"#9c179e\"], [0.4444444444444444, \"#bd3786\"], [0.5555555555555556, \"#d8576b\"], [0.6666666666666666, \"#ed7953\"], [0.7777777777777778, \"#fb9f3a\"], [0.8888888888888888, \"#fdca26\"], [1.0, \"#f0f921\"]], \"type\": \"heatmapgl\"}], \"histogram\": [{\"marker\": {\"colorbar\": {\"outlinewidth\": 0, \"ticks\": \"\"}}, \"type\": \"histogram\"}], \"histogram2d\": [{\"colorbar\": {\"outlinewidth\": 0, \"ticks\": \"\"}, \"colorscale\": [[0.0, \"#0d0887\"], [0.1111111111111111, \"#46039f\"], [0.2222222222222222, \"#7201a8\"], [0.3333333333333333, \"#9c179e\"], [0.4444444444444444, \"#bd3786\"], [0.5555555555555556, \"#d8576b\"], [0.6666666666666666, \"#ed7953\"], [0.7777777777777778, \"#fb9f3a\"], [0.8888888888888888, \"#fdca26\"], [1.0, \"#f0f921\"]], \"type\": \"histogram2d\"}], \"histogram2dcontour\": [{\"colorbar\": {\"outlinewidth\": 0, \"ticks\": \"\"}, \"colorscale\": [[0.0, \"#0d0887\"], [0.1111111111111111, \"#46039f\"], [0.2222222222222222, \"#7201a8\"], [0.3333333333333333, \"#9c179e\"], [0.4444444444444444, \"#bd3786\"], [0.5555555555555556, \"#d8576b\"], [0.6666666666666666, \"#ed7953\"], [0.7777777777777778, \"#fb9f3a\"], [0.8888888888888888, \"#fdca26\"], [1.0, \"#f0f921\"]], \"type\": \"histogram2dcontour\"}], \"mesh3d\": [{\"colorbar\": {\"outlinewidth\": 0, \"ticks\": \"\"}, \"type\": \"mesh3d\"}], \"parcoords\": [{\"line\": {\"colorbar\": {\"outlinewidth\": 0, \"ticks\": \"\"}}, \"type\": \"parcoords\"}], \"pie\": [{\"automargin\": true, \"type\": \"pie\"}], \"scatter\": [{\"marker\": {\"colorbar\": {\"outlinewidth\": 0, \"ticks\": \"\"}}, \"type\": \"scatter\"}], \"scatter3d\": [{\"line\": {\"colorbar\": {\"outlinewidth\": 0, \"ticks\": \"\"}}, \"marker\": {\"colorbar\": {\"outlinewidth\": 0, \"ticks\": \"\"}}, \"type\": \"scatter3d\"}], \"scattercarpet\": [{\"marker\": {\"colorbar\": {\"outlinewidth\": 0, \"ticks\": \"\"}}, \"type\": \"scattercarpet\"}], \"scattergeo\": [{\"marker\": {\"colorbar\": {\"outlinewidth\": 0, \"ticks\": \"\"}}, \"type\": \"scattergeo\"}], \"scattergl\": [{\"marker\": {\"colorbar\": {\"outlinewidth\": 0, \"ticks\": \"\"}}, \"type\": \"scattergl\"}], \"scattermapbox\": [{\"marker\": {\"colorbar\": {\"outlinewidth\": 0, \"ticks\": \"\"}}, \"type\": \"scattermapbox\"}], \"scatterpolar\": [{\"marker\": {\"colorbar\": {\"outlinewidth\": 0, \"ticks\": \"\"}}, \"type\": \"scatterpolar\"}], \"scatterpolargl\": [{\"marker\": {\"colorbar\": {\"outlinewidth\": 0, \"ticks\": \"\"}}, \"type\": \"scatterpolargl\"}], \"scatterternary\": [{\"marker\": {\"colorbar\": {\"outlinewidth\": 0, \"ticks\": \"\"}}, \"type\": \"scatterternary\"}], \"surface\": [{\"colorbar\": {\"outlinewidth\": 0, \"ticks\": \"\"}, \"colorscale\": [[0.0, \"#0d0887\"], [0.1111111111111111, \"#46039f\"], [0.2222222222222222, \"#7201a8\"], [0.3333333333333333, \"#9c179e\"], [0.4444444444444444, \"#bd3786\"], [0.5555555555555556, \"#d8576b\"], [0.6666666666666666, \"#ed7953\"], [0.7777777777777778, \"#fb9f3a\"], [0.8888888888888888, \"#fdca26\"], [1.0, \"#f0f921\"]], \"type\": \"surface\"}], \"table\": [{\"cells\": {\"fill\": {\"color\": \"#EBF0F8\"}, \"line\": {\"color\": \"white\"}}, \"header\": {\"fill\": {\"color\": \"#C8D4E3\"}, \"line\": {\"color\": \"white\"}}, \"type\": \"table\"}]}, \"layout\": {\"annotationdefaults\": {\"arrowcolor\": \"#2a3f5f\", \"arrowhead\": 0, \"arrowwidth\": 1}, \"coloraxis\": {\"colorbar\": {\"outlinewidth\": 0, \"ticks\": \"\"}}, \"colorscale\": {\"diverging\": [[0, \"#8e0152\"], [0.1, \"#c51b7d\"], [0.2, \"#de77ae\"], [0.3, \"#f1b6da\"], [0.4, \"#fde0ef\"], [0.5, \"#f7f7f7\"], [0.6, \"#e6f5d0\"], [0.7, \"#b8e186\"], [0.8, \"#7fbc41\"], [0.9, \"#4d9221\"], [1, \"#276419\"]], \"sequential\": [[0.0, \"#0d0887\"], [0.1111111111111111, \"#46039f\"], [0.2222222222222222, \"#7201a8\"], [0.3333333333333333, \"#9c179e\"], [0.4444444444444444, \"#bd3786\"], [0.5555555555555556, \"#d8576b\"], [0.6666666666666666, \"#ed7953\"], [0.7777777777777778, \"#fb9f3a\"], [0.8888888888888888, \"#fdca26\"], [1.0, \"#f0f921\"]], \"sequentialminus\": [[0.0, \"#0d0887\"], [0.1111111111111111, \"#46039f\"], [0.2222222222222222, \"#7201a8\"], [0.3333333333333333, \"#9c179e\"], [0.4444444444444444, \"#bd3786\"], [0.5555555555555556, \"#d8576b\"], [0.6666666666666666, \"#ed7953\"], [0.7777777777777778, \"#fb9f3a\"], [0.8888888888888888, \"#fdca26\"], [1.0, \"#f0f921\"]]}, \"colorway\": [\"#636efa\", \"#EF553B\", \"#00cc96\", \"#ab63fa\", \"#FFA15A\", \"#19d3f3\", \"#FF6692\", \"#B6E880\", \"#FF97FF\", \"#FECB52\"], \"font\": {\"color\": \"#2a3f5f\"}, \"geo\": {\"bgcolor\": \"white\", \"lakecolor\": \"white\", \"landcolor\": \"#E5ECF6\", \"showlakes\": true, \"showland\": true, \"subunitcolor\": \"white\"}, \"hoverlabel\": {\"align\": \"left\"}, \"hovermode\": \"closest\", \"mapbox\": {\"style\": \"light\"}, \"paper_bgcolor\": \"white\", \"plot_bgcolor\": \"#E5ECF6\", \"polar\": {\"angularaxis\": {\"gridcolor\": \"white\", \"linecolor\": \"white\", \"ticks\": \"\"}, \"bgcolor\": \"#E5ECF6\", \"radialaxis\": {\"gridcolor\": \"white\", \"linecolor\": \"white\", \"ticks\": \"\"}}, \"scene\": {\"xaxis\": {\"backgroundcolor\": \"#E5ECF6\", \"gridcolor\": \"white\", \"gridwidth\": 2, \"linecolor\": \"white\", \"showbackground\": true, \"ticks\": \"\", \"zerolinecolor\": \"white\"}, \"yaxis\": {\"backgroundcolor\": \"#E5ECF6\", \"gridcolor\": \"white\", \"gridwidth\": 2, \"linecolor\": \"white\", \"showbackground\": true, \"ticks\": \"\", \"zerolinecolor\": \"white\"}, \"zaxis\": {\"backgroundcolor\": \"#E5ECF6\", \"gridcolor\": \"white\", \"gridwidth\": 2, \"linecolor\": \"white\", \"showbackground\": true, \"ticks\": \"\", \"zerolinecolor\": \"white\"}}, \"shapedefaults\": {\"line\": {\"color\": \"#2a3f5f\"}}, \"ternary\": {\"aaxis\": {\"gridcolor\": \"white\", \"linecolor\": \"white\", \"ticks\": \"\"}, \"baxis\": {\"gridcolor\": \"white\", \"linecolor\": \"white\", \"ticks\": \"\"}, \"bgcolor\": \"#E5ECF6\", \"caxis\": {\"gridcolor\": \"white\", \"linecolor\": \"white\", \"ticks\": \"\"}}, \"title\": {\"x\": 0.05}, \"xaxis\": {\"automargin\": true, \"gridcolor\": \"white\", \"linecolor\": \"white\", \"ticks\": \"\", \"title\": {\"standoff\": 15}, \"zerolinecolor\": \"white\", \"zerolinewidth\": 2}, \"yaxis\": {\"automargin\": true, \"gridcolor\": \"white\", \"linecolor\": \"white\", \"ticks\": \"\", \"title\": {\"standoff\": 15}, \"zerolinecolor\": \"white\", \"zerolinewidth\": 2}}}},\n",
              "                        {\"responsive\": true}\n",
              "                    ).then(function(){\n",
              "                            \n",
              "var gd = document.getElementById('905d3d04-4fb9-4346-9c75-792c8f37688a');\n",
              "var x = new MutationObserver(function (mutations, observer) {{\n",
              "        var display = window.getComputedStyle(gd).display;\n",
              "        if (!display || display === 'none') {{\n",
              "            console.log([gd, 'removed!']);\n",
              "            Plotly.purge(gd);\n",
              "            observer.disconnect();\n",
              "        }}\n",
              "}});\n",
              "\n",
              "// Listen for the removal of the full notebook cells\n",
              "var notebookContainer = gd.closest('#notebook-container');\n",
              "if (notebookContainer) {{\n",
              "    x.observe(notebookContainer, {childList: true});\n",
              "}}\n",
              "\n",
              "// Listen for the clearing of the current output cell\n",
              "var outputEl = gd.closest('.output');\n",
              "if (outputEl) {{\n",
              "    x.observe(outputEl, {childList: true});\n",
              "}}\n",
              "\n",
              "                        })\n",
              "                };\n",
              "                \n",
              "            </script>\n",
              "        </div>\n",
              "</body>\n",
              "</html>"
            ]
          },
          "metadata": {
            "tags": []
          }
        }
      ]
    },
    {
      "cell_type": "code",
      "metadata": {
        "id": "OCNL6AiZaAis",
        "colab_type": "code",
        "outputId": "cd72876d-aab8-4feb-e323-857481b5fbc1",
        "colab": {
          "base_uri": "https://localhost:8080/",
          "height": 542
        }
      },
      "source": [
        "from plotly.subplots import make_subplots\n",
        "import plotly.graph_objects as go\n",
        "\n",
        "fig = make_subplots(rows=1, cols=2)\n",
        "\n",
        "fig.add_trace(\n",
        "    go.Scatter(\n",
        "        x=df_explained_variance['PC'],\n",
        "        y=df_explained_variance['Cumulative Variance'],\n",
        "        marker=dict(size=15, color=\"LightSeaGreen\")\n",
        "    ), row=1, col=1\n",
        "    )\n",
        "\n",
        "fig.add_trace(\n",
        "    go.Bar(\n",
        "        x=df_explained_variance['PC'],\n",
        "        y=df_explained_variance['Explained Variance'],\n",
        "        marker=dict(color=\"RoyalBlue\"),\n",
        "    ), row=1, col=2\n",
        "    )\n",
        "\n",
        "fig.show()"
      ],
      "execution_count": 68,
      "outputs": [
        {
          "output_type": "display_data",
          "data": {
            "text/html": [
              "<html>\n",
              "<head><meta charset=\"utf-8\" /></head>\n",
              "<body>\n",
              "    <div>\n",
              "            <script src=\"https://cdnjs.cloudflare.com/ajax/libs/mathjax/2.7.5/MathJax.js?config=TeX-AMS-MML_SVG\"></script><script type=\"text/javascript\">if (window.MathJax) {MathJax.Hub.Config({SVG: {font: \"STIX-Web\"}});}</script>\n",
              "                <script type=\"text/javascript\">window.PlotlyConfig = {MathJaxConfig: 'local'};</script>\n",
              "        <script src=\"https://cdn.plot.ly/plotly-latest.min.js\"></script>    \n",
              "            <div id=\"35060a40-6de9-427a-a721-5abb70b9c1e2\" class=\"plotly-graph-div\" style=\"height:525px; width:100%;\"></div>\n",
              "            <script type=\"text/javascript\">\n",
              "                \n",
              "                    window.PLOTLYENV=window.PLOTLYENV || {};\n",
              "                    \n",
              "                if (document.getElementById(\"35060a40-6de9-427a-a721-5abb70b9c1e2\")) {\n",
              "                    Plotly.newPlot(\n",
              "                        '35060a40-6de9-427a-a721-5abb70b9c1e2',\n",
              "                        [{\"marker\": {\"color\": \"LightSeaGreen\", \"size\": 15}, \"type\": \"scatter\", \"x\": [\"\", \"PC1\", \"PC2\", \"PC3\"], \"xaxis\": \"x\", \"y\": [0.0, 0.133, 0.235, 0.32799999999999996], \"yaxis\": \"y\"}, {\"marker\": {\"color\": \"RoyalBlue\"}, \"type\": \"bar\", \"x\": [\"\", \"PC1\", \"PC2\", \"PC3\"], \"xaxis\": \"x2\", \"y\": [0.0, 0.13270813770871034, 0.10155647389305561, 0.09292853354089207], \"yaxis\": \"y2\"}],\n",
              "                        {\"template\": {\"data\": {\"bar\": [{\"error_x\": {\"color\": \"#2a3f5f\"}, \"error_y\": {\"color\": \"#2a3f5f\"}, \"marker\": {\"line\": {\"color\": \"#E5ECF6\", \"width\": 0.5}}, \"type\": \"bar\"}], \"barpolar\": [{\"marker\": {\"line\": {\"color\": \"#E5ECF6\", \"width\": 0.5}}, \"type\": \"barpolar\"}], \"carpet\": [{\"aaxis\": {\"endlinecolor\": \"#2a3f5f\", \"gridcolor\": \"white\", \"linecolor\": \"white\", \"minorgridcolor\": \"white\", \"startlinecolor\": \"#2a3f5f\"}, \"baxis\": {\"endlinecolor\": \"#2a3f5f\", \"gridcolor\": \"white\", \"linecolor\": \"white\", \"minorgridcolor\": \"white\", \"startlinecolor\": \"#2a3f5f\"}, \"type\": \"carpet\"}], \"choropleth\": [{\"colorbar\": {\"outlinewidth\": 0, \"ticks\": \"\"}, \"type\": \"choropleth\"}], \"contour\": [{\"colorbar\": {\"outlinewidth\": 0, \"ticks\": \"\"}, \"colorscale\": [[0.0, \"#0d0887\"], [0.1111111111111111, \"#46039f\"], [0.2222222222222222, \"#7201a8\"], [0.3333333333333333, \"#9c179e\"], [0.4444444444444444, \"#bd3786\"], [0.5555555555555556, \"#d8576b\"], [0.6666666666666666, \"#ed7953\"], [0.7777777777777778, \"#fb9f3a\"], [0.8888888888888888, \"#fdca26\"], [1.0, \"#f0f921\"]], \"type\": \"contour\"}], \"contourcarpet\": [{\"colorbar\": {\"outlinewidth\": 0, \"ticks\": \"\"}, \"type\": \"contourcarpet\"}], \"heatmap\": [{\"colorbar\": {\"outlinewidth\": 0, \"ticks\": \"\"}, \"colorscale\": [[0.0, \"#0d0887\"], [0.1111111111111111, \"#46039f\"], [0.2222222222222222, \"#7201a8\"], [0.3333333333333333, \"#9c179e\"], [0.4444444444444444, \"#bd3786\"], [0.5555555555555556, \"#d8576b\"], [0.6666666666666666, \"#ed7953\"], [0.7777777777777778, \"#fb9f3a\"], [0.8888888888888888, \"#fdca26\"], [1.0, \"#f0f921\"]], \"type\": \"heatmap\"}], \"heatmapgl\": [{\"colorbar\": {\"outlinewidth\": 0, \"ticks\": \"\"}, \"colorscale\": [[0.0, \"#0d0887\"], [0.1111111111111111, \"#46039f\"], [0.2222222222222222, \"#7201a8\"], [0.3333333333333333, \"#9c179e\"], [0.4444444444444444, \"#bd3786\"], [0.5555555555555556, \"#d8576b\"], [0.6666666666666666, \"#ed7953\"], [0.7777777777777778, \"#fb9f3a\"], [0.8888888888888888, \"#fdca26\"], [1.0, \"#f0f921\"]], \"type\": \"heatmapgl\"}], \"histogram\": [{\"marker\": {\"colorbar\": {\"outlinewidth\": 0, \"ticks\": \"\"}}, \"type\": \"histogram\"}], \"histogram2d\": [{\"colorbar\": {\"outlinewidth\": 0, \"ticks\": \"\"}, \"colorscale\": [[0.0, \"#0d0887\"], [0.1111111111111111, \"#46039f\"], [0.2222222222222222, \"#7201a8\"], [0.3333333333333333, \"#9c179e\"], [0.4444444444444444, \"#bd3786\"], [0.5555555555555556, \"#d8576b\"], [0.6666666666666666, \"#ed7953\"], [0.7777777777777778, \"#fb9f3a\"], [0.8888888888888888, \"#fdca26\"], [1.0, \"#f0f921\"]], \"type\": \"histogram2d\"}], \"histogram2dcontour\": [{\"colorbar\": {\"outlinewidth\": 0, \"ticks\": \"\"}, \"colorscale\": [[0.0, \"#0d0887\"], [0.1111111111111111, \"#46039f\"], [0.2222222222222222, \"#7201a8\"], [0.3333333333333333, \"#9c179e\"], [0.4444444444444444, \"#bd3786\"], [0.5555555555555556, \"#d8576b\"], [0.6666666666666666, \"#ed7953\"], [0.7777777777777778, \"#fb9f3a\"], [0.8888888888888888, \"#fdca26\"], [1.0, \"#f0f921\"]], \"type\": \"histogram2dcontour\"}], \"mesh3d\": [{\"colorbar\": {\"outlinewidth\": 0, \"ticks\": \"\"}, \"type\": \"mesh3d\"}], \"parcoords\": [{\"line\": {\"colorbar\": {\"outlinewidth\": 0, \"ticks\": \"\"}}, \"type\": \"parcoords\"}], \"pie\": [{\"automargin\": true, \"type\": \"pie\"}], \"scatter\": [{\"marker\": {\"colorbar\": {\"outlinewidth\": 0, \"ticks\": \"\"}}, \"type\": \"scatter\"}], \"scatter3d\": [{\"line\": {\"colorbar\": {\"outlinewidth\": 0, \"ticks\": \"\"}}, \"marker\": {\"colorbar\": {\"outlinewidth\": 0, \"ticks\": \"\"}}, \"type\": \"scatter3d\"}], \"scattercarpet\": [{\"marker\": {\"colorbar\": {\"outlinewidth\": 0, \"ticks\": \"\"}}, \"type\": \"scattercarpet\"}], \"scattergeo\": [{\"marker\": {\"colorbar\": {\"outlinewidth\": 0, \"ticks\": \"\"}}, \"type\": \"scattergeo\"}], \"scattergl\": [{\"marker\": {\"colorbar\": {\"outlinewidth\": 0, \"ticks\": \"\"}}, \"type\": \"scattergl\"}], \"scattermapbox\": [{\"marker\": {\"colorbar\": {\"outlinewidth\": 0, \"ticks\": \"\"}}, \"type\": \"scattermapbox\"}], \"scatterpolar\": [{\"marker\": {\"colorbar\": {\"outlinewidth\": 0, \"ticks\": \"\"}}, \"type\": \"scatterpolar\"}], \"scatterpolargl\": [{\"marker\": {\"colorbar\": {\"outlinewidth\": 0, \"ticks\": \"\"}}, \"type\": \"scatterpolargl\"}], \"scatterternary\": [{\"marker\": {\"colorbar\": {\"outlinewidth\": 0, \"ticks\": \"\"}}, \"type\": \"scatterternary\"}], \"surface\": [{\"colorbar\": {\"outlinewidth\": 0, \"ticks\": \"\"}, \"colorscale\": [[0.0, \"#0d0887\"], [0.1111111111111111, \"#46039f\"], [0.2222222222222222, \"#7201a8\"], [0.3333333333333333, \"#9c179e\"], [0.4444444444444444, \"#bd3786\"], [0.5555555555555556, \"#d8576b\"], [0.6666666666666666, \"#ed7953\"], [0.7777777777777778, \"#fb9f3a\"], [0.8888888888888888, \"#fdca26\"], [1.0, \"#f0f921\"]], \"type\": \"surface\"}], \"table\": [{\"cells\": {\"fill\": {\"color\": \"#EBF0F8\"}, \"line\": {\"color\": \"white\"}}, \"header\": {\"fill\": {\"color\": \"#C8D4E3\"}, \"line\": {\"color\": \"white\"}}, \"type\": \"table\"}]}, \"layout\": {\"annotationdefaults\": {\"arrowcolor\": \"#2a3f5f\", \"arrowhead\": 0, \"arrowwidth\": 1}, \"coloraxis\": {\"colorbar\": {\"outlinewidth\": 0, \"ticks\": \"\"}}, \"colorscale\": {\"diverging\": [[0, \"#8e0152\"], [0.1, \"#c51b7d\"], [0.2, \"#de77ae\"], [0.3, \"#f1b6da\"], [0.4, \"#fde0ef\"], [0.5, \"#f7f7f7\"], [0.6, \"#e6f5d0\"], [0.7, \"#b8e186\"], [0.8, \"#7fbc41\"], [0.9, \"#4d9221\"], [1, \"#276419\"]], \"sequential\": [[0.0, \"#0d0887\"], [0.1111111111111111, \"#46039f\"], [0.2222222222222222, \"#7201a8\"], [0.3333333333333333, \"#9c179e\"], [0.4444444444444444, \"#bd3786\"], [0.5555555555555556, \"#d8576b\"], [0.6666666666666666, \"#ed7953\"], [0.7777777777777778, \"#fb9f3a\"], [0.8888888888888888, \"#fdca26\"], [1.0, \"#f0f921\"]], \"sequentialminus\": [[0.0, \"#0d0887\"], [0.1111111111111111, \"#46039f\"], [0.2222222222222222, \"#7201a8\"], [0.3333333333333333, \"#9c179e\"], [0.4444444444444444, \"#bd3786\"], [0.5555555555555556, \"#d8576b\"], [0.6666666666666666, \"#ed7953\"], [0.7777777777777778, \"#fb9f3a\"], [0.8888888888888888, \"#fdca26\"], [1.0, \"#f0f921\"]]}, \"colorway\": [\"#636efa\", \"#EF553B\", \"#00cc96\", \"#ab63fa\", \"#FFA15A\", \"#19d3f3\", \"#FF6692\", \"#B6E880\", \"#FF97FF\", \"#FECB52\"], \"font\": {\"color\": \"#2a3f5f\"}, \"geo\": {\"bgcolor\": \"white\", \"lakecolor\": \"white\", \"landcolor\": \"#E5ECF6\", \"showlakes\": true, \"showland\": true, \"subunitcolor\": \"white\"}, \"hoverlabel\": {\"align\": \"left\"}, \"hovermode\": \"closest\", \"mapbox\": {\"style\": \"light\"}, \"paper_bgcolor\": \"white\", \"plot_bgcolor\": \"#E5ECF6\", \"polar\": {\"angularaxis\": {\"gridcolor\": \"white\", \"linecolor\": \"white\", \"ticks\": \"\"}, \"bgcolor\": \"#E5ECF6\", \"radialaxis\": {\"gridcolor\": \"white\", \"linecolor\": \"white\", \"ticks\": \"\"}}, \"scene\": {\"xaxis\": {\"backgroundcolor\": \"#E5ECF6\", \"gridcolor\": \"white\", \"gridwidth\": 2, \"linecolor\": \"white\", \"showbackground\": true, \"ticks\": \"\", \"zerolinecolor\": \"white\"}, \"yaxis\": {\"backgroundcolor\": \"#E5ECF6\", \"gridcolor\": \"white\", \"gridwidth\": 2, \"linecolor\": \"white\", \"showbackground\": true, \"ticks\": \"\", \"zerolinecolor\": \"white\"}, \"zaxis\": {\"backgroundcolor\": \"#E5ECF6\", \"gridcolor\": \"white\", \"gridwidth\": 2, \"linecolor\": \"white\", \"showbackground\": true, \"ticks\": \"\", \"zerolinecolor\": \"white\"}}, \"shapedefaults\": {\"line\": {\"color\": \"#2a3f5f\"}}, \"ternary\": {\"aaxis\": {\"gridcolor\": \"white\", \"linecolor\": \"white\", \"ticks\": \"\"}, \"baxis\": {\"gridcolor\": \"white\", \"linecolor\": \"white\", \"ticks\": \"\"}, \"bgcolor\": \"#E5ECF6\", \"caxis\": {\"gridcolor\": \"white\", \"linecolor\": \"white\", \"ticks\": \"\"}}, \"title\": {\"x\": 0.05}, \"xaxis\": {\"automargin\": true, \"gridcolor\": \"white\", \"linecolor\": \"white\", \"ticks\": \"\", \"title\": {\"standoff\": 15}, \"zerolinecolor\": \"white\", \"zerolinewidth\": 2}, \"yaxis\": {\"automargin\": true, \"gridcolor\": \"white\", \"linecolor\": \"white\", \"ticks\": \"\", \"title\": {\"standoff\": 15}, \"zerolinecolor\": \"white\", \"zerolinewidth\": 2}}}, \"xaxis\": {\"anchor\": \"y\", \"domain\": [0.0, 0.45]}, \"xaxis2\": {\"anchor\": \"y2\", \"domain\": [0.55, 1.0]}, \"yaxis\": {\"anchor\": \"x\", \"domain\": [0.0, 1.0]}, \"yaxis2\": {\"anchor\": \"x2\", \"domain\": [0.0, 1.0]}},\n",
              "                        {\"responsive\": true}\n",
              "                    ).then(function(){\n",
              "                            \n",
              "var gd = document.getElementById('35060a40-6de9-427a-a721-5abb70b9c1e2');\n",
              "var x = new MutationObserver(function (mutations, observer) {{\n",
              "        var display = window.getComputedStyle(gd).display;\n",
              "        if (!display || display === 'none') {{\n",
              "            console.log([gd, 'removed!']);\n",
              "            Plotly.purge(gd);\n",
              "            observer.disconnect();\n",
              "        }}\n",
              "}});\n",
              "\n",
              "// Listen for the removal of the full notebook cells\n",
              "var notebookContainer = gd.closest('#notebook-container');\n",
              "if (notebookContainer) {{\n",
              "    x.observe(notebookContainer, {childList: true});\n",
              "}}\n",
              "\n",
              "// Listen for the clearing of the current output cell\n",
              "var outputEl = gd.closest('.output');\n",
              "if (outputEl) {{\n",
              "    x.observe(outputEl, {childList: true});\n",
              "}}\n",
              "\n",
              "                        })\n",
              "                };\n",
              "                \n",
              "            </script>\n",
              "        </div>\n",
              "</body>\n",
              "</html>"
            ]
          },
          "metadata": {
            "tags": []
          }
        }
      ]
    },
    {
      "cell_type": "code",
      "metadata": {
        "id": "TId7Rhp6aaO5",
        "colab_type": "code",
        "colab": {}
      },
      "source": [
        "import plotly.express as px"
      ],
      "execution_count": 0,
      "outputs": []
    },
    {
      "cell_type": "code",
      "metadata": {
        "id": "umQQzTXbaalQ",
        "colab_type": "code",
        "colab": {}
      },
      "source": [
        "\n",
        "#fig = px.scatter_3d(Xpca_df, x='PC1', y='PC2', z='targets',color =None)\n",
        "#fig.show()"
      ],
      "execution_count": 0,
      "outputs": []
    },
    {
      "cell_type": "code",
      "metadata": {
        "id": "olc4l4UVabVy",
        "colab_type": "code",
        "colab": {}
      },
      "source": [
        ""
      ],
      "execution_count": 0,
      "outputs": []
    },
    {
      "cell_type": "code",
      "metadata": {
        "colab_type": "code",
        "id": "t5xcvJYOOiT4",
        "colab": {}
      },
      "source": [
        "from sklearn.model_selection import train_test_split\n",
        "from sklearn.ensemble import RandomForestClassifier\n",
        "from sklearn.metrics import accuracy_score, roc_auc_score\n",
        "from sklearn.feature_selection import VarianceThreshold\n",
        "from sklearn.preprocessing import StandardScaler"
      ],
      "execution_count": 0,
      "outputs": []
    },
    {
      "cell_type": "code",
      "metadata": {
        "id": "fBRJTfdBm3bR",
        "colab_type": "code",
        "colab": {
          "base_uri": "https://localhost:8080/",
          "height": 406
        },
        "outputId": "b9ee3efa-b157-4ad6-acba-4fc105efcd2a"
      },
      "source": [
        "Xpca_df"
      ],
      "execution_count": 72,
      "outputs": [
        {
          "output_type": "execute_result",
          "data": {
            "text/html": [
              "<div>\n",
              "<style scoped>\n",
              "    .dataframe tbody tr th:only-of-type {\n",
              "        vertical-align: middle;\n",
              "    }\n",
              "\n",
              "    .dataframe tbody tr th {\n",
              "        vertical-align: top;\n",
              "    }\n",
              "\n",
              "    .dataframe thead th {\n",
              "        text-align: right;\n",
              "    }\n",
              "</style>\n",
              "<table border=\"1\" class=\"dataframe\">\n",
              "  <thead>\n",
              "    <tr style=\"text-align: right;\">\n",
              "      <th></th>\n",
              "      <th>PCA1</th>\n",
              "      <th>PCA2</th>\n",
              "      <th>PCA3</th>\n",
              "      <th>targets</th>\n",
              "    </tr>\n",
              "  </thead>\n",
              "  <tbody>\n",
              "    <tr>\n",
              "      <th>0</th>\n",
              "      <td>-0.011848</td>\n",
              "      <td>0.314590</td>\n",
              "      <td>0.308046</td>\n",
              "      <td>curve-left-step</td>\n",
              "    </tr>\n",
              "    <tr>\n",
              "      <th>1</th>\n",
              "      <td>-0.009845</td>\n",
              "      <td>0.308187</td>\n",
              "      <td>0.304326</td>\n",
              "      <td>curve-left-step</td>\n",
              "    </tr>\n",
              "    <tr>\n",
              "      <th>2</th>\n",
              "      <td>-0.010435</td>\n",
              "      <td>0.316770</td>\n",
              "      <td>0.307237</td>\n",
              "      <td>curve-left-step</td>\n",
              "    </tr>\n",
              "    <tr>\n",
              "      <th>3</th>\n",
              "      <td>-0.007774</td>\n",
              "      <td>0.312601</td>\n",
              "      <td>0.302873</td>\n",
              "      <td>curve-left-step</td>\n",
              "    </tr>\n",
              "    <tr>\n",
              "      <th>4</th>\n",
              "      <td>-0.009502</td>\n",
              "      <td>0.325739</td>\n",
              "      <td>0.307968</td>\n",
              "      <td>curve-left-step</td>\n",
              "    </tr>\n",
              "    <tr>\n",
              "      <th>...</th>\n",
              "      <td>...</td>\n",
              "      <td>...</td>\n",
              "      <td>...</td>\n",
              "      <td>...</td>\n",
              "    </tr>\n",
              "    <tr>\n",
              "      <th>137955</th>\n",
              "      <td>0.223845</td>\n",
              "      <td>-0.795930</td>\n",
              "      <td>1.259106</td>\n",
              "      <td>walk</td>\n",
              "    </tr>\n",
              "    <tr>\n",
              "      <th>137956</th>\n",
              "      <td>0.225369</td>\n",
              "      <td>-0.793449</td>\n",
              "      <td>1.259056</td>\n",
              "      <td>walk</td>\n",
              "    </tr>\n",
              "    <tr>\n",
              "      <th>137957</th>\n",
              "      <td>0.221930</td>\n",
              "      <td>-0.790249</td>\n",
              "      <td>1.265358</td>\n",
              "      <td>walk</td>\n",
              "    </tr>\n",
              "    <tr>\n",
              "      <th>137958</th>\n",
              "      <td>0.219051</td>\n",
              "      <td>-0.789848</td>\n",
              "      <td>1.270690</td>\n",
              "      <td>walk</td>\n",
              "    </tr>\n",
              "    <tr>\n",
              "      <th>137959</th>\n",
              "      <td>0.219126</td>\n",
              "      <td>-0.795744</td>\n",
              "      <td>1.270250</td>\n",
              "      <td>walk</td>\n",
              "    </tr>\n",
              "  </tbody>\n",
              "</table>\n",
              "<p>137960 rows × 4 columns</p>\n",
              "</div>"
            ],
            "text/plain": [
              "            PCA1      PCA2      PCA3          targets\n",
              "0      -0.011848  0.314590  0.308046  curve-left-step\n",
              "1      -0.009845  0.308187  0.304326  curve-left-step\n",
              "2      -0.010435  0.316770  0.307237  curve-left-step\n",
              "3      -0.007774  0.312601  0.302873  curve-left-step\n",
              "4      -0.009502  0.325739  0.307968  curve-left-step\n",
              "...          ...       ...       ...              ...\n",
              "137955  0.223845 -0.795930  1.259106             walk\n",
              "137956  0.225369 -0.793449  1.259056             walk\n",
              "137957  0.221930 -0.790249  1.265358             walk\n",
              "137958  0.219051 -0.789848  1.270690             walk\n",
              "137959  0.219126 -0.795744  1.270250             walk\n",
              "\n",
              "[137960 rows x 4 columns]"
            ]
          },
          "metadata": {
            "tags": []
          },
          "execution_count": 72
        }
      ]
    },
    {
      "cell_type": "code",
      "metadata": {
        "id": "Bv0FklhFqgpl",
        "colab_type": "code",
        "colab": {
          "base_uri": "https://localhost:8080/",
          "height": 34
        },
        "outputId": "199320b6-b67d-4b92-b3a5-b2021bc0609e"
      },
      "source": [
        "X = Xpca_df.drop('targets', axis = 1)\n",
        "y = Xpca_df['targets']\n",
        "\n",
        "X.shape, y.shape"
      ],
      "execution_count": 75,
      "outputs": [
        {
          "output_type": "execute_result",
          "data": {
            "text/plain": [
              "((137960, 3), (137960,))"
            ]
          },
          "metadata": {
            "tags": []
          },
          "execution_count": 75
        }
      ]
    },
    {
      "cell_type": "code",
      "metadata": {
        "id": "XdcBfo0Zqgzy",
        "colab_type": "code",
        "colab": {}
      },
      "source": [
        "X_train, X_test, y_train, y_test = train_test_split(X, y, test_size = 0.2, random_state = 0, stratify = y)"
      ],
      "execution_count": 0,
      "outputs": []
    },
    {
      "cell_type": "code",
      "metadata": {
        "id": "lzlg3ohN1UGQ",
        "colab_type": "code",
        "colab": {}
      },
      "source": [
        "def run_randomForest(X_train, X_test, y_train, y_test):\n",
        "    clf = RandomForestClassifier(n_estimators=100, random_state=0, n_jobs=-1)\n",
        "    clf.fit(X_train, y_train)\n",
        "    y_pred = clf.predict(X_test)\n",
        "    print('Accuracy on test set: ')\n",
        "    print(accuracy_score(y_test, y_pred))"
      ],
      "execution_count": 0,
      "outputs": []
    },
    {
      "cell_type": "code",
      "metadata": {
        "id": "0O78MJ7A1Uhi",
        "colab_type": "code",
        "colab": {
          "base_uri": "https://localhost:8080/",
          "height": 87
        },
        "outputId": "b0262b1d-3296-46d9-c7b5-15a32d483df8"
      },
      "source": [
        "%%time\n",
        "run_randomForest(X_train, X_test, y_train, y_test)"
      ],
      "execution_count": 79,
      "outputs": [
        {
          "output_type": "stream",
          "text": [
            "Accuracy on test set: \n",
            "0.9891272832705132\n",
            "CPU times: user 37.9 s, sys: 350 ms, total: 38.2 s\n",
            "Wall time: 19.6 s\n"
          ],
          "name": "stdout"
        }
      ]
    },
    {
      "cell_type": "markdown",
      "metadata": {
        "id": "9eFAQwwfq92-",
        "colab_type": "text"
      },
      "source": [
        "Training and Testing"
      ]
    },
    {
      "cell_type": "code",
      "metadata": {
        "id": "o88lcipstbl8",
        "colab_type": "code",
        "colab": {
          "base_uri": "https://localhost:8080/",
          "height": 230
        },
        "outputId": "4680b3d3-0c72-4165-edd2-3a0866ec8eba"
      },
      "source": [
        "for comp in range(1,4):\n",
        "    pca = PCA(n_components=comp, random_state=42)\n",
        "    pca.fit(X_train)\n",
        "    X_train_pca = pca.transform(X_train)\n",
        "    X_test_pca = pca.transform(X_test)\n",
        "    print('Selected Components: ', comp)\n",
        "    run_randomForest(X_train_pca, X_test_pca, y_train, y_test)\n",
        "    print()"
      ],
      "execution_count": 84,
      "outputs": [
        {
          "output_type": "stream",
          "text": [
            "Selected Components:  1\n",
            "Accuracy on test set: \n",
            "0.2029936213395187\n",
            "\n",
            "Selected Components:  2\n",
            "Accuracy on test set: \n",
            "0.8823572049869527\n",
            "\n",
            "Selected Components:  3\n",
            "Accuracy on test set: \n",
            "0.9893447376051029\n",
            "\n"
          ],
          "name": "stdout"
        }
      ]
    }
  ]
}